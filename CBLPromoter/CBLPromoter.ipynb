{
  "nbformat": 4,
  "nbformat_minor": 0,
  "metadata": {
    "colab": {
      "name": "CBLPromoter.ipynb",
      "provenance": [],
      "collapsed_sections": [
        "VthGxFZCpqRX",
        "YDyP2MHoD8fN",
        "9RGUETJQD8fP",
        "V8Tq-AfLD8fR",
        "Q9Hq_kMzD8fT",
        "YeHjm4v6D8fW"
      ],
      "machine_shape": "hm"
    },
    "kernelspec": {
      "display_name": "Python 3",
      "language": "python",
      "name": "python3"
    },
    "language_info": {
      "codemirror_mode": {
        "name": "ipython",
        "version": 3
      },
      "file_extension": ".py",
      "mimetype": "text/x-python",
      "name": "python",
      "nbconvert_exporter": "python",
      "pygments_lexer": "ipython3",
      "version": "3.7.10"
    }
  },
  "cells": [
    {
      "cell_type": "markdown",
      "metadata": {
        "id": "qydnPbnpwhfD"
      },
      "source": [
        "## CBLPromoter\n",
        "### by Jason Ohanaga"
      ]
    },
    {
      "cell_type": "markdown",
      "metadata": {
        "id": "VthGxFZCpqRX"
      },
      "source": [
        "# Import Libraries"
      ]
    },
    {
      "cell_type": "code",
      "metadata": {
        "colab": {
          "base_uri": "https://localhost:8080/"
        },
        "id": "mLoDJgJApzAb",
        "outputId": "6c3bc1da-cf03-4690-99fa-5f0816faf83b"
      },
      "source": [
        "!pip install Bio\n",
        "!pip install gdown"
      ],
      "execution_count": 1,
      "outputs": [
        {
          "output_type": "stream",
          "text": [
            "Collecting Bio\n",
            "  Downloading bio-0.5.0-py3-none-any.whl (94 kB)\n",
            "\u001b[?25l\r\u001b[K     |███▌                            | 10 kB 26.7 MB/s eta 0:00:01\r\u001b[K     |███████                         | 20 kB 29.9 MB/s eta 0:00:01\r\u001b[K     |██████████▍                     | 30 kB 18.5 MB/s eta 0:00:01\r\u001b[K     |██████████████                  | 40 kB 15.7 MB/s eta 0:00:01\r\u001b[K     |█████████████████▍              | 51 kB 5.3 MB/s eta 0:00:01\r\u001b[K     |████████████████████▉           | 61 kB 5.8 MB/s eta 0:00:01\r\u001b[K     |████████████████████████▎       | 71 kB 6.2 MB/s eta 0:00:01\r\u001b[K     |███████████████████████████▉    | 81 kB 6.1 MB/s eta 0:00:01\r\u001b[K     |███████████████████████████████▎| 92 kB 6.3 MB/s eta 0:00:01\r\u001b[K     |████████████████████████████████| 94 kB 2.5 MB/s \n",
            "\u001b[?25hRequirement already satisfied: numpy<1.20 in /usr/local/lib/python3.7/dist-packages (from Bio) (1.19.5)\n",
            "Requirement already satisfied: plac in /usr/local/lib/python3.7/dist-packages (from Bio) (1.1.3)\n",
            "Collecting biopython>=1.78\n",
            "  Downloading biopython-1.79-cp37-cp37m-manylinux_2_5_x86_64.manylinux1_x86_64.whl (2.3 MB)\n",
            "\u001b[K     |████████████████████████████████| 2.3 MB 17.4 MB/s \n",
            "\u001b[?25hRequirement already satisfied: requests in /usr/local/lib/python3.7/dist-packages (from Bio) (2.23.0)\n",
            "Requirement already satisfied: idna<3,>=2.5 in /usr/local/lib/python3.7/dist-packages (from requests->Bio) (2.10)\n",
            "Requirement already satisfied: chardet<4,>=3.0.2 in /usr/local/lib/python3.7/dist-packages (from requests->Bio) (3.0.4)\n",
            "Requirement already satisfied: urllib3!=1.25.0,!=1.25.1,<1.26,>=1.21.1 in /usr/local/lib/python3.7/dist-packages (from requests->Bio) (1.24.3)\n",
            "Requirement already satisfied: certifi>=2017.4.17 in /usr/local/lib/python3.7/dist-packages (from requests->Bio) (2021.5.30)\n",
            "Installing collected packages: biopython, Bio\n",
            "Successfully installed Bio-0.5.0 biopython-1.79\n",
            "Requirement already satisfied: gdown in /usr/local/lib/python3.7/dist-packages (3.6.4)\n",
            "Requirement already satisfied: requests in /usr/local/lib/python3.7/dist-packages (from gdown) (2.23.0)\n",
            "Requirement already satisfied: six in /usr/local/lib/python3.7/dist-packages (from gdown) (1.15.0)\n",
            "Requirement already satisfied: tqdm in /usr/local/lib/python3.7/dist-packages (from gdown) (4.41.1)\n",
            "Requirement already satisfied: certifi>=2017.4.17 in /usr/local/lib/python3.7/dist-packages (from requests->gdown) (2021.5.30)\n",
            "Requirement already satisfied: urllib3!=1.25.0,!=1.25.1,<1.26,>=1.21.1 in /usr/local/lib/python3.7/dist-packages (from requests->gdown) (1.24.3)\n",
            "Requirement already satisfied: idna<3,>=2.5 in /usr/local/lib/python3.7/dist-packages (from requests->gdown) (2.10)\n",
            "Requirement already satisfied: chardet<4,>=3.0.2 in /usr/local/lib/python3.7/dist-packages (from requests->gdown) (3.0.4)\n"
          ],
          "name": "stdout"
        }
      ]
    },
    {
      "cell_type": "code",
      "metadata": {
        "id": "db8B4P-yppxv"
      },
      "source": [
        "import pandas as pd\n",
        "import numpy as np\n",
        "import re\n",
        "import random\n",
        "\n",
        "import textwrap\n",
        "from Bio import SeqIO\n",
        "import matplotlib.pyplot as plt\n",
        "\n",
        "import tensorflow as tf\n",
        "from tensorflow import keras\n",
        "\n",
        "from sklearn.preprocessing import LabelEncoder\n",
        "from sklearn.preprocessing import OneHotEncoder\n",
        "from sklearn.utils import shuffle"
      ],
      "execution_count": 2,
      "outputs": []
    },
    {
      "cell_type": "markdown",
      "metadata": {
        "id": "YDyP2MHoD8fN"
      },
      "source": [
        "# Load Data"
      ]
    },
    {
      "cell_type": "code",
      "metadata": {
        "colab": {
          "base_uri": "https://localhost:8080/"
        },
        "id": "4d9xRESUD8fO",
        "outputId": "551eca89-ee7a-460b-d5bc-dde094ef335e"
      },
      "source": [
        "!gdown --id 199We0DbFLfSthZty69VvUt7nGxP6w5Ft\n",
        "!gdown --id 1Mkbq-4WrWVi5dvIchCzHjOvb_mtyrahw\n",
        "!gdown --id 1FPasW-WX5r-IwulnAEbm1e_ZiLcq17vQ\n",
        "!gdown --id 1aAoUA7omGZDJqIr3KkPL93X6v2I2s_TA"
      ],
      "execution_count": 3,
      "outputs": [
        {
          "output_type": "stream",
          "text": [
            "Downloading...\n",
            "From: https://drive.google.com/uc?id=199We0DbFLfSthZty69VvUt7nGxP6w5Ft\n",
            "To: /content/dp_human_non_tata\n",
            "9.79MB [00:00, 86.3MB/s]\n",
            "Downloading...\n",
            "From: https://drive.google.com/uc?id=1Mkbq-4WrWVi5dvIchCzHjOvb_mtyrahw\n",
            "To: /content/dp_human_tata\n",
            "100% 1.13M/1.13M [00:00<00:00, 73.8MB/s]\n",
            "Downloading...\n",
            "From: https://drive.google.com/uc?id=1FPasW-WX5r-IwulnAEbm1e_ZiLcq17vQ\n",
            "To: /content/dp_mouse_non_tata\n",
            "9.79MB [00:00, 153MB/s]\n",
            "Downloading...\n",
            "From: https://drive.google.com/uc?id=1aAoUA7omGZDJqIr3KkPL93X6v2I2s_TA\n",
            "To: /content/dp_mouse_tata\n",
            "100% 1.13M/1.13M [00:00<00:00, 74.7MB/s]\n"
          ],
          "name": "stdout"
        }
      ]
    },
    {
      "cell_type": "code",
      "metadata": {
        "colab": {
          "base_uri": "https://localhost:8080/"
        },
        "id": "YMspYK66D8fP",
        "outputId": "7fd161a0-6e9f-4fe5-9a1d-8ed60371573a"
      },
      "source": [
        "!cp 'dp_human_non_tata' human_non_tata.fasta\n",
        "!cp 'dp_human_tata' human_tata.fasta\n",
        "!cp 'dp_mouse_non_tata' mouse_non_tata.fasta\n",
        "!cp 'dp_mouse_tata' mouse_tata.fasta\n",
        "!ls"
      ],
      "execution_count": 4,
      "outputs": [
        {
          "output_type": "stream",
          "text": [
            "dp_human_non_tata  dp_mouse_tata\t mouse_non_tata.fasta\n",
            "dp_human_tata\t   human_non_tata.fasta  mouse_tata.fasta\n",
            "dp_mouse_non_tata  human_tata.fasta\t sample_data\n"
          ],
          "name": "stdout"
        }
      ]
    },
    {
      "cell_type": "markdown",
      "metadata": {
        "id": "9RGUETJQD8fP"
      },
      "source": [
        "# Convert Data to Pandas DF"
      ]
    },
    {
      "cell_type": "markdown",
      "metadata": {
        "id": "yxkXvnNZD8fQ"
      },
      "source": [
        "## Human"
      ]
    },
    {
      "cell_type": "code",
      "metadata": {
        "colab": {
          "base_uri": "https://localhost:8080/",
          "height": 507
        },
        "id": "VFVapwy9D8fQ",
        "outputId": "3007013e-ce3a-4208-f48d-d34ecb77fcd2"
      },
      "source": [
        "records = SeqIO.parse(\"human_non_tata.fasta\", \"fasta\")\n",
        "SeqIO.write(records, \"human_non_tata.tab\", \"tab\")\n",
        "human_df = pd.read_csv('human_non_tata.tab', sep='\\t', header=None)\n",
        "header = ['Name', 'Sequence']\n",
        "human_df.columns = header[:len(human_df.columns)]\n",
        "human_df"
      ],
      "execution_count": 5,
      "outputs": [
        {
          "output_type": "execute_result",
          "data": {
            "text/html": [
              "<div>\n",
              "<style scoped>\n",
              "    .dataframe tbody tr th:only-of-type {\n",
              "        vertical-align: middle;\n",
              "    }\n",
              "\n",
              "    .dataframe tbody tr th {\n",
              "        vertical-align: top;\n",
              "    }\n",
              "\n",
              "    .dataframe thead th {\n",
              "        text-align: right;\n",
              "    }\n",
              "</style>\n",
              "<table border=\"1\" class=\"dataframe\">\n",
              "  <thead>\n",
              "    <tr style=\"text-align: right;\">\n",
              "      <th></th>\n",
              "      <th>Name</th>\n",
              "      <th>Sequence</th>\n",
              "    </tr>\n",
              "  </thead>\n",
              "  <tbody>\n",
              "    <tr>\n",
              "      <th>0</th>\n",
              "      <td>FP020532</td>\n",
              "      <td>AGCCACGTGAGTCGCTGGGCTATGGGTGGTGGTGGGGGTGAGGGAG...</td>\n",
              "    </tr>\n",
              "    <tr>\n",
              "      <th>1</th>\n",
              "      <td>FP020301</td>\n",
              "      <td>TACTTCCGGTTTCCACGGAGCTCCGCCCCTTAGGGGGGTTCTCGCT...</td>\n",
              "    </tr>\n",
              "    <tr>\n",
              "      <th>2</th>\n",
              "      <td>FP008839</td>\n",
              "      <td>GGAGCCTGGTAGGGAGGACAAATCTCTCGAAATCTCAGTTGGCGCT...</td>\n",
              "    </tr>\n",
              "    <tr>\n",
              "      <th>3</th>\n",
              "      <td>FP002661</td>\n",
              "      <td>GACCTCCTGTGGTGCTTTCAGTTAGAGCCACTCCCTTTACAAACAA...</td>\n",
              "    </tr>\n",
              "    <tr>\n",
              "      <th>4</th>\n",
              "      <td>FP004964</td>\n",
              "      <td>AATATCTAGGCTTTTAAAATAAGGTGAAAATAAAAGGCAAATTGTC...</td>\n",
              "    </tr>\n",
              "    <tr>\n",
              "      <th>...</th>\n",
              "      <td>...</td>\n",
              "      <td>...</td>\n",
              "    </tr>\n",
              "    <tr>\n",
              "      <th>26528</th>\n",
              "      <td>FP020671</td>\n",
              "      <td>TTAGCCTCTAGGCCTCAGTAGTCCCAGGGAAGTAATAATCGCTATT...</td>\n",
              "    </tr>\n",
              "    <tr>\n",
              "      <th>26529</th>\n",
              "      <td>FP017673</td>\n",
              "      <td>AATTAAACGGTAGTTAAGAGCAAAGGTGAAAATGAGAAAAAAAAGG...</td>\n",
              "    </tr>\n",
              "    <tr>\n",
              "      <th>26530</th>\n",
              "      <td>FP004916</td>\n",
              "      <td>GGAGAGGCTCCCCAAGTTGGCCGGGTGTGGGGAGAGGGGACATAGC...</td>\n",
              "    </tr>\n",
              "    <tr>\n",
              "      <th>26531</th>\n",
              "      <td>FP009666</td>\n",
              "      <td>CGCACAGAGCATTCCGTCACCCCAGGCCCACGCTCTCCAGCCCACC...</td>\n",
              "    </tr>\n",
              "    <tr>\n",
              "      <th>26532</th>\n",
              "      <td>FP019591</td>\n",
              "      <td>ACACTGTCTGCCTGGATGAGGGGTGAGGCTGAGGTGCCCCCTTGCC...</td>\n",
              "    </tr>\n",
              "  </tbody>\n",
              "</table>\n",
              "<p>26533 rows × 2 columns</p>\n",
              "</div>"
            ],
            "text/plain": [
              "           Name                                           Sequence\n",
              "0      FP020532  AGCCACGTGAGTCGCTGGGCTATGGGTGGTGGTGGGGGTGAGGGAG...\n",
              "1      FP020301  TACTTCCGGTTTCCACGGAGCTCCGCCCCTTAGGGGGGTTCTCGCT...\n",
              "2      FP008839  GGAGCCTGGTAGGGAGGACAAATCTCTCGAAATCTCAGTTGGCGCT...\n",
              "3      FP002661  GACCTCCTGTGGTGCTTTCAGTTAGAGCCACTCCCTTTACAAACAA...\n",
              "4      FP004964  AATATCTAGGCTTTTAAAATAAGGTGAAAATAAAAGGCAAATTGTC...\n",
              "...         ...                                                ...\n",
              "26528  FP020671  TTAGCCTCTAGGCCTCAGTAGTCCCAGGGAAGTAATAATCGCTATT...\n",
              "26529  FP017673  AATTAAACGGTAGTTAAGAGCAAAGGTGAAAATGAGAAAAAAAAGG...\n",
              "26530  FP004916  GGAGAGGCTCCCCAAGTTGGCCGGGTGTGGGGAGAGGGGACATAGC...\n",
              "26531  FP009666  CGCACAGAGCATTCCGTCACCCCAGGCCCACGCTCTCCAGCCCACC...\n",
              "26532  FP019591  ACACTGTCTGCCTGGATGAGGGGTGAGGCTGAGGTGCCCCCTTGCC...\n",
              "\n",
              "[26533 rows x 2 columns]"
            ]
          },
          "metadata": {
            "tags": []
          },
          "execution_count": 5
        }
      ]
    },
    {
      "cell_type": "markdown",
      "metadata": {
        "id": "V8Tq-AfLD8fR"
      },
      "source": [
        "## Mouse"
      ]
    },
    {
      "cell_type": "code",
      "metadata": {
        "colab": {
          "base_uri": "https://localhost:8080/",
          "height": 507
        },
        "id": "hqDRXtVvD8fS",
        "outputId": "4881e1b6-7544-4507-deab-e06d6f861080"
      },
      "source": [
        "records = SeqIO.parse(\"mouse_non_tata.fasta\", \"fasta\")\n",
        "SeqIO.write(records, \"mouse_non_tata.tab\", \"tab\")\n",
        "mouse_df = pd.read_csv('mouse_non_tata.tab', sep='\\t', header=None)\n",
        "header = ['Name', 'Sequence']\n",
        "mouse_df.columns = header[:len(mouse_df.columns)]\n",
        "mouse_df"
      ],
      "execution_count": 6,
      "outputs": [
        {
          "output_type": "execute_result",
          "data": {
            "text/html": [
              "<div>\n",
              "<style scoped>\n",
              "    .dataframe tbody tr th:only-of-type {\n",
              "        vertical-align: middle;\n",
              "    }\n",
              "\n",
              "    .dataframe tbody tr th {\n",
              "        vertical-align: top;\n",
              "    }\n",
              "\n",
              "    .dataframe thead th {\n",
              "        text-align: right;\n",
              "    }\n",
              "</style>\n",
              "<table border=\"1\" class=\"dataframe\">\n",
              "  <thead>\n",
              "    <tr style=\"text-align: right;\">\n",
              "      <th></th>\n",
              "      <th>Name</th>\n",
              "      <th>Sequence</th>\n",
              "    </tr>\n",
              "  </thead>\n",
              "  <tbody>\n",
              "    <tr>\n",
              "      <th>0</th>\n",
              "      <td>FP020532</td>\n",
              "      <td>AGCCACGTGAGTCGCTGGGCTATGGGTGGTGGTGGGGGTGAGGGAG...</td>\n",
              "    </tr>\n",
              "    <tr>\n",
              "      <th>1</th>\n",
              "      <td>FP020301</td>\n",
              "      <td>TACTTCCGGTTTCCACGGAGCTCCGCCCCTTAGGGGGGTTCTCGCT...</td>\n",
              "    </tr>\n",
              "    <tr>\n",
              "      <th>2</th>\n",
              "      <td>FP008839</td>\n",
              "      <td>GGAGCCTGGTAGGGAGGACAAATCTCTCGAAATCTCAGTTGGCGCT...</td>\n",
              "    </tr>\n",
              "    <tr>\n",
              "      <th>3</th>\n",
              "      <td>FP002661</td>\n",
              "      <td>GACCTCCTGTGGTGCTTTCAGTTAGAGCCACTCCCTTTACAAACAA...</td>\n",
              "    </tr>\n",
              "    <tr>\n",
              "      <th>4</th>\n",
              "      <td>FP004964</td>\n",
              "      <td>AATATCTAGGCTTTTAAAATAAGGTGAAAATAAAAGGCAAATTGTC...</td>\n",
              "    </tr>\n",
              "    <tr>\n",
              "      <th>...</th>\n",
              "      <td>...</td>\n",
              "      <td>...</td>\n",
              "    </tr>\n",
              "    <tr>\n",
              "      <th>26528</th>\n",
              "      <td>FP020671</td>\n",
              "      <td>TTAGCCTCTAGGCCTCAGTAGTCCCAGGGAAGTAATAATCGCTATT...</td>\n",
              "    </tr>\n",
              "    <tr>\n",
              "      <th>26529</th>\n",
              "      <td>FP017673</td>\n",
              "      <td>AATTAAACGGTAGTTAAGAGCAAAGGTGAAAATGAGAAAAAAAAGG...</td>\n",
              "    </tr>\n",
              "    <tr>\n",
              "      <th>26530</th>\n",
              "      <td>FP004916</td>\n",
              "      <td>GGAGAGGCTCCCCAAGTTGGCCGGGTGTGGGGAGAGGGGACATAGC...</td>\n",
              "    </tr>\n",
              "    <tr>\n",
              "      <th>26531</th>\n",
              "      <td>FP009666</td>\n",
              "      <td>CGCACAGAGCATTCCGTCACCCCAGGCCCACGCTCTCCAGCCCACC...</td>\n",
              "    </tr>\n",
              "    <tr>\n",
              "      <th>26532</th>\n",
              "      <td>FP019591</td>\n",
              "      <td>ACACTGTCTGCCTGGATGAGGGGTGAGGCTGAGGTGCCCCCTTGCC...</td>\n",
              "    </tr>\n",
              "  </tbody>\n",
              "</table>\n",
              "<p>26533 rows × 2 columns</p>\n",
              "</div>"
            ],
            "text/plain": [
              "           Name                                           Sequence\n",
              "0      FP020532  AGCCACGTGAGTCGCTGGGCTATGGGTGGTGGTGGGGGTGAGGGAG...\n",
              "1      FP020301  TACTTCCGGTTTCCACGGAGCTCCGCCCCTTAGGGGGGTTCTCGCT...\n",
              "2      FP008839  GGAGCCTGGTAGGGAGGACAAATCTCTCGAAATCTCAGTTGGCGCT...\n",
              "3      FP002661  GACCTCCTGTGGTGCTTTCAGTTAGAGCCACTCCCTTTACAAACAA...\n",
              "4      FP004964  AATATCTAGGCTTTTAAAATAAGGTGAAAATAAAAGGCAAATTGTC...\n",
              "...         ...                                                ...\n",
              "26528  FP020671  TTAGCCTCTAGGCCTCAGTAGTCCCAGGGAAGTAATAATCGCTATT...\n",
              "26529  FP017673  AATTAAACGGTAGTTAAGAGCAAAGGTGAAAATGAGAAAAAAAAGG...\n",
              "26530  FP004916  GGAGAGGCTCCCCAAGTTGGCCGGGTGTGGGGAGAGGGGACATAGC...\n",
              "26531  FP009666  CGCACAGAGCATTCCGTCACCCCAGGCCCACGCTCTCCAGCCCACC...\n",
              "26532  FP019591  ACACTGTCTGCCTGGATGAGGGGTGAGGCTGAGGTGCCCCCTTGCC...\n",
              "\n",
              "[26533 rows x 2 columns]"
            ]
          },
          "metadata": {
            "tags": []
          },
          "execution_count": 6
        }
      ]
    },
    {
      "cell_type": "markdown",
      "metadata": {
        "id": "Q9Hq_kMzD8fT"
      },
      "source": [
        "# Create Negative Datasets"
      ]
    },
    {
      "cell_type": "code",
      "metadata": {
        "id": "Vb8wSX0VD8fU"
      },
      "source": [
        "def CreateNegativeDataSet(df):\n",
        "  negative_sequences = [] #init return variable\n",
        "  sequence = df['Sequence'].tolist() #get sequences\n",
        "\n",
        "  for current_sequence in sequence: #iterate through rows\n",
        "    split = textwrap.wrap(current_sequence, 15) # split into 20 subsequences of length 15\n",
        "    split_dict = {}\n",
        "    \n",
        "    for x,y in enumerate(split): # turn to dict\n",
        "      split_dict[x] = y\n",
        "\n",
        "    # get 12 random sequences\n",
        "    ran_keys = []\n",
        "    split_keys = list(split_dict.keys())\n",
        "    for x in range(0,12):\n",
        "      ran_keys.append(random.choice(split_keys))\n",
        "\n",
        "    # substitute the random 12 sequences\n",
        "    sub_ran_keys = []\n",
        "    for x in ran_keys:\n",
        "      sub_ran_keys.append(split[x])\n",
        "    random.shuffle(sub_ran_keys)\n",
        "\n",
        "    # combine the substituted and combined sequences\n",
        "    i = 0\n",
        "    for x in ran_keys:\n",
        "      split_dict[x] = sub_ran_keys[i]\n",
        "      i = i + 1\n",
        "      \n",
        "    neg_seq = ''.join(list(split_dict.values())) # convert back to a single string \n",
        "    negative_sequences.append(neg_seq) #append to return list\n",
        "\n",
        "  return negative_sequences"
      ],
      "execution_count": 7,
      "outputs": []
    },
    {
      "cell_type": "markdown",
      "metadata": {
        "id": "h6BO_mQgD8fU"
      },
      "source": [
        "## Negative Dataset for Human"
      ]
    },
    {
      "cell_type": "code",
      "metadata": {
        "colab": {
          "base_uri": "https://localhost:8080/",
          "height": 507
        },
        "id": "vqTJ7Ho1D8fV",
        "outputId": "a356018e-2279-436c-9076-f0a21510351c"
      },
      "source": [
        "neg_sequences = CreateNegativeDataSet(human_df)\n",
        "negative_human_df = pd.DataFrame(neg_sequences)\n",
        "header = ['Sequence']\n",
        "negative_human_df.columns = header[:len(negative_human_df.columns)]\n",
        "negative_human_df"
      ],
      "execution_count": 8,
      "outputs": [
        {
          "output_type": "execute_result",
          "data": {
            "text/html": [
              "<div>\n",
              "<style scoped>\n",
              "    .dataframe tbody tr th:only-of-type {\n",
              "        vertical-align: middle;\n",
              "    }\n",
              "\n",
              "    .dataframe tbody tr th {\n",
              "        vertical-align: top;\n",
              "    }\n",
              "\n",
              "    .dataframe thead th {\n",
              "        text-align: right;\n",
              "    }\n",
              "</style>\n",
              "<table border=\"1\" class=\"dataframe\">\n",
              "  <thead>\n",
              "    <tr style=\"text-align: right;\">\n",
              "      <th></th>\n",
              "      <th>Sequence</th>\n",
              "    </tr>\n",
              "  </thead>\n",
              "  <tbody>\n",
              "    <tr>\n",
              "      <th>0</th>\n",
              "      <td>AGCCACGTGAGTCGCTGGGCTATGGGTGGTCCTGTCAACAACTTCG...</td>\n",
              "    </tr>\n",
              "    <tr>\n",
              "      <th>1</th>\n",
              "      <td>ACTCCGCCTCCCTCCGCTCGGGATACAGAATAGGGGGGTTCTCGCT...</td>\n",
              "    </tr>\n",
              "    <tr>\n",
              "      <th>2</th>\n",
              "      <td>GGGCCGTGCGGCCGGCGCGCTGGGCCAGTAAATCTCAGTTGGCGCT...</td>\n",
              "    </tr>\n",
              "    <tr>\n",
              "      <th>3</th>\n",
              "      <td>GACCTCCTGTGGTGCTTTCAGTTAGAGCCACTCCCTTTACAAACAT...</td>\n",
              "    </tr>\n",
              "    <tr>\n",
              "      <th>4</th>\n",
              "      <td>CAAAGCGGTAGAAGAAAAATAAGGTGAAAATAAAAGGCAAATTGTG...</td>\n",
              "    </tr>\n",
              "    <tr>\n",
              "      <th>...</th>\n",
              "      <td>...</td>\n",
              "    </tr>\n",
              "    <tr>\n",
              "      <th>26528</th>\n",
              "      <td>TTAGCCTCTAGGCCTTTCAGCTCTGCACCAAGTAATAATCGCTATT...</td>\n",
              "    </tr>\n",
              "    <tr>\n",
              "      <th>26529</th>\n",
              "      <td>AATTAAACGGTAGTTAAGAGCAAAGGTGAAAACACCATGCCAAAAG...</td>\n",
              "    </tr>\n",
              "    <tr>\n",
              "      <th>26530</th>\n",
              "      <td>GGAGAGGCTCCCCAAGTTGGCCGGGTGTGGGGAGAGGGGACATAGG...</td>\n",
              "    </tr>\n",
              "    <tr>\n",
              "      <th>26531</th>\n",
              "      <td>CGCACAGAGCATTCCCGGCTCCTCTCCGGGCGCTCTCCAGCCCACG...</td>\n",
              "    </tr>\n",
              "    <tr>\n",
              "      <th>26532</th>\n",
              "      <td>ACACTGTCTGCCTGGCCGGCGCTGAGTCATGAGGTGCCCCCTTGCA...</td>\n",
              "    </tr>\n",
              "  </tbody>\n",
              "</table>\n",
              "<p>26533 rows × 1 columns</p>\n",
              "</div>"
            ],
            "text/plain": [
              "                                                Sequence\n",
              "0      AGCCACGTGAGTCGCTGGGCTATGGGTGGTCCTGTCAACAACTTCG...\n",
              "1      ACTCCGCCTCCCTCCGCTCGGGATACAGAATAGGGGGGTTCTCGCT...\n",
              "2      GGGCCGTGCGGCCGGCGCGCTGGGCCAGTAAATCTCAGTTGGCGCT...\n",
              "3      GACCTCCTGTGGTGCTTTCAGTTAGAGCCACTCCCTTTACAAACAT...\n",
              "4      CAAAGCGGTAGAAGAAAAATAAGGTGAAAATAAAAGGCAAATTGTG...\n",
              "...                                                  ...\n",
              "26528  TTAGCCTCTAGGCCTTTCAGCTCTGCACCAAGTAATAATCGCTATT...\n",
              "26529  AATTAAACGGTAGTTAAGAGCAAAGGTGAAAACACCATGCCAAAAG...\n",
              "26530  GGAGAGGCTCCCCAAGTTGGCCGGGTGTGGGGAGAGGGGACATAGG...\n",
              "26531  CGCACAGAGCATTCCCGGCTCCTCTCCGGGCGCTCTCCAGCCCACG...\n",
              "26532  ACACTGTCTGCCTGGCCGGCGCTGAGTCATGAGGTGCCCCCTTGCA...\n",
              "\n",
              "[26533 rows x 1 columns]"
            ]
          },
          "metadata": {
            "tags": []
          },
          "execution_count": 8
        }
      ]
    },
    {
      "cell_type": "markdown",
      "metadata": {
        "id": "2t7QmZ6CD8fV"
      },
      "source": [
        "## Negative Dataset for Mouse"
      ]
    },
    {
      "cell_type": "code",
      "metadata": {
        "colab": {
          "base_uri": "https://localhost:8080/",
          "height": 507
        },
        "id": "_ZsGKFf9D8fW",
        "outputId": "0465c25e-c751-474d-8fbf-1066f7351a72"
      },
      "source": [
        "neg_sequences = CreateNegativeDataSet(mouse_df)\n",
        "negative_mouse_df = pd.DataFrame(neg_sequences)\n",
        "header = ['Sequence']\n",
        "negative_mouse_df.columns = header[:len(negative_mouse_df.columns)]\n",
        "negative_mouse_df"
      ],
      "execution_count": 9,
      "outputs": [
        {
          "output_type": "execute_result",
          "data": {
            "text/html": [
              "<div>\n",
              "<style scoped>\n",
              "    .dataframe tbody tr th:only-of-type {\n",
              "        vertical-align: middle;\n",
              "    }\n",
              "\n",
              "    .dataframe tbody tr th {\n",
              "        vertical-align: top;\n",
              "    }\n",
              "\n",
              "    .dataframe thead th {\n",
              "        text-align: right;\n",
              "    }\n",
              "</style>\n",
              "<table border=\"1\" class=\"dataframe\">\n",
              "  <thead>\n",
              "    <tr style=\"text-align: right;\">\n",
              "      <th></th>\n",
              "      <th>Sequence</th>\n",
              "    </tr>\n",
              "  </thead>\n",
              "  <tbody>\n",
              "    <tr>\n",
              "      <th>0</th>\n",
              "      <td>AGCCACGTGAGTCGCTGGGCTATGGGTGGTGGTGGGGGTGAGGGAC...</td>\n",
              "    </tr>\n",
              "    <tr>\n",
              "      <th>1</th>\n",
              "      <td>GCTCGGGATACAGAACGGAGCTCCGCCCCTCCAACGGTTTTGAGCT...</td>\n",
              "    </tr>\n",
              "    <tr>\n",
              "      <th>2</th>\n",
              "      <td>GGAGCCTGGTAGGGACGAACCGGCTCCGCGAATCTCAGTTGGCGCG...</td>\n",
              "    </tr>\n",
              "    <tr>\n",
              "      <th>3</th>\n",
              "      <td>GACCTCCTGTGGTGCTTTCAGTTAGAGCCATCATTCTATTTAGCTG...</td>\n",
              "    </tr>\n",
              "    <tr>\n",
              "      <th>4</th>\n",
              "      <td>AATATCTAGGCTTTTAAAATAAGGTGAAAATAAAAGGCAAATTGTT...</td>\n",
              "    </tr>\n",
              "    <tr>\n",
              "      <th>...</th>\n",
              "      <td>...</td>\n",
              "    </tr>\n",
              "    <tr>\n",
              "      <th>26528</th>\n",
              "      <td>TTCAGCTCTGCACCACAGTAGTCCCAGGGAAGTAATAATCGCTATA...</td>\n",
              "    </tr>\n",
              "    <tr>\n",
              "      <th>26529</th>\n",
              "      <td>CTGGAACAACTGGTGAAGAGCAAAGGTGAAAATGAGAAAAAAAAGG...</td>\n",
              "    </tr>\n",
              "    <tr>\n",
              "      <th>26530</th>\n",
              "      <td>GGAGAGGCTCCCCAAGTTGGCCGGGTGTGGGGAGAGGGGACATAGC...</td>\n",
              "    </tr>\n",
              "    <tr>\n",
              "      <th>26531</th>\n",
              "      <td>CGCACAGAGCATTCCGTCACCCCAGGCCCACGCTCTCCAGCCCACC...</td>\n",
              "    </tr>\n",
              "    <tr>\n",
              "      <th>26532</th>\n",
              "      <td>AGGAGCCCAGCTGGGATGAGGGGTGAGGCTCTGCCCTGCCCTGCCC...</td>\n",
              "    </tr>\n",
              "  </tbody>\n",
              "</table>\n",
              "<p>26533 rows × 1 columns</p>\n",
              "</div>"
            ],
            "text/plain": [
              "                                                Sequence\n",
              "0      AGCCACGTGAGTCGCTGGGCTATGGGTGGTGGTGGGGGTGAGGGAC...\n",
              "1      GCTCGGGATACAGAACGGAGCTCCGCCCCTCCAACGGTTTTGAGCT...\n",
              "2      GGAGCCTGGTAGGGACGAACCGGCTCCGCGAATCTCAGTTGGCGCG...\n",
              "3      GACCTCCTGTGGTGCTTTCAGTTAGAGCCATCATTCTATTTAGCTG...\n",
              "4      AATATCTAGGCTTTTAAAATAAGGTGAAAATAAAAGGCAAATTGTT...\n",
              "...                                                  ...\n",
              "26528  TTCAGCTCTGCACCACAGTAGTCCCAGGGAAGTAATAATCGCTATA...\n",
              "26529  CTGGAACAACTGGTGAAGAGCAAAGGTGAAAATGAGAAAAAAAAGG...\n",
              "26530  GGAGAGGCTCCCCAAGTTGGCCGGGTGTGGGGAGAGGGGACATAGC...\n",
              "26531  CGCACAGAGCATTCCGTCACCCCAGGCCCACGCTCTCCAGCCCACC...\n",
              "26532  AGGAGCCCAGCTGGGATGAGGGGTGAGGCTCTGCCCTGCCCTGCCC...\n",
              "\n",
              "[26533 rows x 1 columns]"
            ]
          },
          "metadata": {
            "tags": []
          },
          "execution_count": 9
        }
      ]
    },
    {
      "cell_type": "markdown",
      "metadata": {
        "id": "YeHjm4v6D8fW"
      },
      "source": [
        "# Encode Datasets (One Hot)\n",
        "from https://www.kaggle.com/thomasnelson/working-with-dna-sequence-data-for-mlb"
      ]
    },
    {
      "cell_type": "code",
      "metadata": {
        "id": "xzIgATktD8fX"
      },
      "source": [
        "def string_to_array(my_string):\n",
        "  ''' Function to convert a DNA sequence string to a numpy array converts to \n",
        "  lower case, changes any non 'acgt' characters to 'n' '''\n",
        "\n",
        "  my_string = my_string.lower()\n",
        "  my_string = re.sub('[^acgt]', 'z', my_string)\n",
        "  my_array = np.array(list(my_string))\n",
        "  return my_array\n",
        "\n",
        "def one_hot_encoder(my_array):\n",
        "  ''' function to one-hot encode a DNA sequence string non 'acgt' bases (n) \n",
        "  are 0000 returns a L x 4 numpy array'''\n",
        "\n",
        "  # create a label encoder with 'acgtn' alphabet\n",
        "  label_encoder = LabelEncoder()\n",
        "  label_encoder.fit(np.array(['a','c','g','t','z']))\n",
        "  integer_encoded = label_encoder.transform(my_array)\n",
        "\n",
        "  onehot_encoder = OneHotEncoder(sparse=False, dtype=float, categories=[range(5)])\n",
        "  integer_encoded = integer_encoded.reshape(len(integer_encoded), 1)\n",
        "  onehot_encoded = onehot_encoder.fit_transform(integer_encoded)\n",
        "  onehot_encoded = np.delete(onehot_encoded, -1, 1)\n",
        "  return onehot_encoded"
      ],
      "execution_count": 10,
      "outputs": []
    },
    {
      "cell_type": "markdown",
      "metadata": {
        "id": "WG90qcCUqALr"
      },
      "source": [
        "## Human Encoding"
      ]
    },
    {
      "cell_type": "code",
      "metadata": {
        "colab": {
          "base_uri": "https://localhost:8080/"
        },
        "id": "fdBRwmYaD8fX",
        "outputId": "de942908-667f-4c63-83c3-56f5e4bb8665"
      },
      "source": [
        "human_vector = list()\n",
        "sequence = human_df['Sequence'].tolist()\n",
        "\n",
        "for current_sequence in sequence:\n",
        "  human_vector.append(one_hot_encoder(string_to_array(current_sequence)))\n",
        "human_vector = np.array(human_vector) # convert to numpy array\n",
        "\n",
        "print(\"HUMAN\\nlen:\", len(human_vector))\n",
        "print(type(human_vector[0]))\n",
        "human_vector[0]"
      ],
      "execution_count": 11,
      "outputs": [
        {
          "output_type": "stream",
          "text": [
            "HUMAN\n",
            "len: 26533\n",
            "<class 'numpy.ndarray'>\n"
          ],
          "name": "stdout"
        },
        {
          "output_type": "execute_result",
          "data": {
            "text/plain": [
              "array([[1., 0., 0., 0.],\n",
              "       [0., 0., 1., 0.],\n",
              "       [0., 1., 0., 0.],\n",
              "       ...,\n",
              "       [0., 0., 0., 1.],\n",
              "       [1., 0., 0., 0.],\n",
              "       [0., 1., 0., 0.]])"
            ]
          },
          "metadata": {
            "tags": []
          },
          "execution_count": 11
        }
      ]
    },
    {
      "cell_type": "markdown",
      "metadata": {
        "id": "6UGug-3VqGn1"
      },
      "source": [
        "## Negative Human Encoding"
      ]
    },
    {
      "cell_type": "code",
      "metadata": {
        "colab": {
          "base_uri": "https://localhost:8080/"
        },
        "id": "-czlH7LLmudj",
        "outputId": "34c28d45-d160-4530-aabb-7efe57e7f326"
      },
      "source": [
        "negative_human_vector = list()\n",
        "sequence = negative_human_df['Sequence'].tolist()\n",
        "\n",
        "for current_sequence in sequence:\n",
        "  negative_human_vector.append(one_hot_encoder(string_to_array(current_sequence)))\n",
        "negative_human_vector = np.array(negative_human_vector)\n",
        "\n",
        "print(\"\\nNEGATIVE HUMAN\\nlen:\", len(negative_human_vector))\n",
        "print(type(negative_human_vector[0]))\n",
        "negative_human_vector[0]"
      ],
      "execution_count": 12,
      "outputs": [
        {
          "output_type": "stream",
          "text": [
            "\n",
            "NEGATIVE HUMAN\n",
            "len: 26533\n",
            "<class 'numpy.ndarray'>\n"
          ],
          "name": "stdout"
        },
        {
          "output_type": "execute_result",
          "data": {
            "text/plain": [
              "array([[1., 0., 0., 0.],\n",
              "       [0., 0., 1., 0.],\n",
              "       [0., 1., 0., 0.],\n",
              "       ...,\n",
              "       [0., 0., 0., 1.],\n",
              "       [1., 0., 0., 0.],\n",
              "       [0., 1., 0., 0.]])"
            ]
          },
          "metadata": {
            "tags": []
          },
          "execution_count": 12
        }
      ]
    },
    {
      "cell_type": "markdown",
      "metadata": {
        "id": "ZDoO6QTEqJ_Q"
      },
      "source": [
        "## Mouse Encoding"
      ]
    },
    {
      "cell_type": "code",
      "metadata": {
        "colab": {
          "base_uri": "https://localhost:8080/"
        },
        "id": "PIygaIPaD8fX",
        "outputId": "1abe3de5-2bdd-4190-8be2-5c04314c1edf"
      },
      "source": [
        "mouse_vector = list()\n",
        "sequence = mouse_df['Sequence'].tolist()\n",
        "\n",
        "for current_sequence in sequence:\n",
        "  mouse_vector.append(one_hot_encoder(string_to_array(current_sequence)))\n",
        "mouse_vector = np.array(mouse_vector)\n",
        "\n",
        "print(\"MOUSE\\nlen:\", len(mouse_vector))\n",
        "print(type(mouse_vector[0]))\n",
        "mouse_vector[0]"
      ],
      "execution_count": 13,
      "outputs": [
        {
          "output_type": "stream",
          "text": [
            "MOUSE\n",
            "len: 26533\n",
            "<class 'numpy.ndarray'>\n"
          ],
          "name": "stdout"
        },
        {
          "output_type": "execute_result",
          "data": {
            "text/plain": [
              "array([[1., 0., 0., 0.],\n",
              "       [0., 0., 1., 0.],\n",
              "       [0., 1., 0., 0.],\n",
              "       ...,\n",
              "       [0., 0., 0., 1.],\n",
              "       [1., 0., 0., 0.],\n",
              "       [0., 1., 0., 0.]])"
            ]
          },
          "metadata": {
            "tags": []
          },
          "execution_count": 13
        }
      ]
    },
    {
      "cell_type": "markdown",
      "metadata": {
        "id": "0hjnRfgWqLu6"
      },
      "source": [
        "## Negative Mouse Encoding"
      ]
    },
    {
      "cell_type": "code",
      "metadata": {
        "colab": {
          "base_uri": "https://localhost:8080/"
        },
        "id": "IDlQqt43nqmn",
        "outputId": "9aa881e2-fcb5-4575-d319-3183568b2616"
      },
      "source": [
        "negative_mouse_vector = list()\n",
        "sequence = negative_mouse_df['Sequence'].tolist()\n",
        "\n",
        "for current_sequence in sequence:\n",
        "  negative_mouse_vector.append(one_hot_encoder(string_to_array(current_sequence)))\n",
        "negative_mouse_vector = np.array(negative_mouse_vector)\n",
        "\n",
        "print(\"\\nNEGATIVE MOUSE\\nlen:\", len(negative_mouse_vector))\n",
        "print(type(negative_mouse_vector[0]))\n",
        "negative_mouse_vector[0]"
      ],
      "execution_count": 14,
      "outputs": [
        {
          "output_type": "stream",
          "text": [
            "\n",
            "NEGATIVE MOUSE\n",
            "len: 26533\n",
            "<class 'numpy.ndarray'>\n"
          ],
          "name": "stdout"
        },
        {
          "output_type": "execute_result",
          "data": {
            "text/plain": [
              "array([[1., 0., 0., 0.],\n",
              "       [0., 0., 1., 0.],\n",
              "       [0., 1., 0., 0.],\n",
              "       ...,\n",
              "       [0., 1., 0., 0.],\n",
              "       [0., 1., 0., 0.],\n",
              "       [0., 1., 0., 0.]])"
            ]
          },
          "metadata": {
            "tags": []
          },
          "execution_count": 14
        }
      ]
    },
    {
      "cell_type": "markdown",
      "metadata": {
        "id": "uqTGO87ZD8fY"
      },
      "source": [
        "# Combine Human and Mouse Datasets"
      ]
    },
    {
      "cell_type": "markdown",
      "metadata": {
        "id": "q6ih_1P7_B5j"
      },
      "source": [
        "## Test Set"
      ]
    },
    {
      "cell_type": "code",
      "metadata": {
        "id": "jYCd90wc_VI9"
      },
      "source": [
        "# keep 10% of dataset for testing 5% human and 5% mouse\n",
        "length = len(human_vector)\n",
        "test_split = len(human_vector)-int(length*0.05)"
      ],
      "execution_count": 15,
      "outputs": []
    },
    {
      "cell_type": "code",
      "metadata": {
        "colab": {
          "base_uri": "https://localhost:8080/"
        },
        "id": "4v3zdKCP_BVk",
        "outputId": "97a6ec07-b69d-46ce-eeaf-a817b3974d25"
      },
      "source": [
        "X_test_human = human_vector[test_split:, :, :]\n",
        "y_test_human = np.array([1]*len(X_test_human))\n",
        "\n",
        "X_test_negative_human = negative_human_vector[test_split:, :, :]\n",
        "y_test_negative_human = np.array([0]*len(X_test_negative_human))\n",
        "\n",
        "X_test_human_comb = np.concatenate((X_test_human, X_test_negative_human), axis=0)\n",
        "y_test_human_comb = np.concatenate((y_test_human, y_test_negative_human), axis=0)\n",
        "\n",
        "print(\"Test human input shape:\", X_test_human.shape, \"Test human target shape:\", y_test_human.shape)"
      ],
      "execution_count": 25,
      "outputs": [
        {
          "output_type": "stream",
          "text": [
            "Test human input shape: (2653, 300, 4) Test human target shape: (2653,)\n"
          ],
          "name": "stdout"
        }
      ]
    },
    {
      "cell_type": "code",
      "metadata": {
        "colab": {
          "base_uri": "https://localhost:8080/"
        },
        "id": "xMRc4edh_Jdo",
        "outputId": "eb787b33-c2fb-4daf-b4c1-77188973267e"
      },
      "source": [
        "X_test_mouse = mouse_vector[test_split:, :, :]\n",
        "y_test_mouse = np.array([1]*len(X_test_mouse))\n",
        "\n",
        "X_test_negative_mouse = negative_mouse_vector[test_split:, :, :]\n",
        "y_test_negative_mouse = np.array([0]*len(X_test_negative_mouse))\n",
        "\n",
        "X_test_mouse_comb = np.concatenate((X_test_mouse, X_test_negative_mouse), axis=0)\n",
        "y_test_mouse_comb = np.concatenate((y_test_mouse, y_test_negative_mouse), axis=0)\n",
        "\n",
        "print(\"Test mouse input shape:\", X_test_mouse.shape, \"Test mouse target shape:\", y_test_mouse.shape)"
      ],
      "execution_count": 26,
      "outputs": [
        {
          "output_type": "stream",
          "text": [
            "Test mouse input shape: (2653, 300, 4) Test mouse target shape: (2653,)\n"
          ],
          "name": "stdout"
        }
      ]
    },
    {
      "cell_type": "markdown",
      "metadata": {
        "id": "eF0sCmN__i1S"
      },
      "source": [
        "## Training Set"
      ]
    },
    {
      "cell_type": "code",
      "metadata": {
        "colab": {
          "base_uri": "https://localhost:8080/"
        },
        "id": "oMvwaz5gD8fY",
        "outputId": "8f5df957-85b7-4624-b70b-17d636694bd5"
      },
      "source": [
        "# split off the test set samples\n",
        "X_train_human = human_vector[:test_split, :, :] \n",
        "X_train_negative_human = negative_human_vector[:test_split, :, :]\n",
        "\n",
        "X_train_mouse = mouse_vector[:test_split, :, :]\n",
        "X_train_negative_mouse = negative_mouse_vector[:test_split, :, :]\n",
        "\n",
        "# combine all inputs and targets in to respective np arrays\n",
        "X_train = np.concatenate((X_train_human, X_train_negative_human, X_train_mouse, X_train_negative_mouse), axis=0)\n",
        "y_train = np.concatenate(([1]*len(X_train_human), [0]*len(X_train_negative_human ), [1]*len(X_train_mouse), [0]*len(X_train_negative_mouse)), axis=0)\n",
        "y_train = y_train.reshape(-1,1)\n",
        "\n",
        "# shuffle \n",
        "X_train, y_train = shuffle(X_train, y_train, random_state=42)\n",
        "\n",
        "print(\"Shape of combined human and mouse inputs:\", X_train.shape, \"\\nShape of combined human and mouse targets:\", y_train.shape)"
      ],
      "execution_count": 18,
      "outputs": [
        {
          "output_type": "stream",
          "text": [
            "Shape of combined human and mouse inputs: (95520, 300, 4) \n",
            "Shape of combined human and mouse targets: (95520, 1)\n"
          ],
          "name": "stdout"
        }
      ]
    },
    {
      "cell_type": "markdown",
      "metadata": {
        "id": "2W_UgOYDD8fZ"
      },
      "source": [
        "# Build and Train"
      ]
    },
    {
      "cell_type": "code",
      "metadata": {
        "id": "GwOQCS_oD8fa"
      },
      "source": [
        "def build_model():\n",
        "    # input\n",
        "    input = tf.keras.layers.Input(shape=(300,4))\n",
        "\n",
        "    # conv 1\n",
        "    x = tf.keras.layers.Conv1D(filters=512, kernel_size=28, strides=2, activation='relu', padding='valid', kernel_regularizer=keras.regularizers.l2(1e-5))(input)\n",
        "    x = tf.keras.layers.BatchNormalization()(x)\n",
        "    x = tf.keras.layers.Dropout(rate=0.5)(x)\n",
        "\n",
        "    # conv 2\n",
        "    x = tf.keras.layers.Conv1D(filters=256, kernel_size=12, strides=1, activation='relu', padding='valid', kernel_regularizer=keras.regularizers.l2(1e-5))(x)\n",
        "    x = tf.keras.layers.BatchNormalization()(x)\n",
        "    x = tf.keras.layers.Dropout(rate=0.5)(x)\n",
        "\n",
        "    # conv 3\n",
        "    x = tf.keras.layers.Conv1D(filters=256, kernel_size=7, strides=2, activation='relu', padding='valid', kernel_regularizer=keras.regularizers.l2(1e-5))(x)\n",
        "    x = tf.keras.layers.BatchNormalization()(x)\n",
        "    x = tf.keras.layers.Dropout(rate=0.5)(x)\n",
        "\n",
        "    # bi-lstm\n",
        "    x = tf.keras.layers.Bidirectional(tf.keras.layers.LSTM(128, kernel_regularizer=keras.regularizers.l2(1e-5)))(x)\n",
        "    x = tf.keras.layers.Flatten()(x)\n",
        "\n",
        "    # fully conected\n",
        "    x = tf.keras.layers.Dense(128, activation='relu', kernel_regularizer=keras.regularizers.l2(1e-5))(x)\n",
        "    x = tf.keras.layers.Dropout(rate=0.5)(x)\n",
        "    x = tf.keras.layers.Dense(64, activation='relu', kernel_regularizer=keras.regularizers.l2(1e-5))(x)\n",
        "\n",
        "    # output\n",
        "    output = tf.keras.layers.Dense(1, activation='sigmoid')(x)\n",
        "\n",
        "    # model\n",
        "    model = tf.keras.models.Model(inputs=[input], outputs=[output], name='CBLPromoter')\n",
        "    return model"
      ],
      "execution_count": 19,
      "outputs": []
    },
    {
      "cell_type": "code",
      "metadata": {
        "colab": {
          "base_uri": "https://localhost:8080/"
        },
        "id": "FH01zuQwqyd9",
        "outputId": "e65718c6-2135-4d4e-b3de-d02325155382"
      },
      "source": [
        "model = build_model()\n",
        "model.summary()"
      ],
      "execution_count": 20,
      "outputs": [
        {
          "output_type": "stream",
          "text": [
            "Model: \"CBLPromoter\"\n",
            "_________________________________________________________________\n",
            "Layer (type)                 Output Shape              Param #   \n",
            "=================================================================\n",
            "input_1 (InputLayer)         [(None, 300, 4)]          0         \n",
            "_________________________________________________________________\n",
            "conv1d (Conv1D)              (None, 273, 512)          57856     \n",
            "_________________________________________________________________\n",
            "batch_normalization (BatchNo (None, 273, 512)          2048      \n",
            "_________________________________________________________________\n",
            "dropout (Dropout)            (None, 273, 512)          0         \n",
            "_________________________________________________________________\n",
            "conv1d_1 (Conv1D)            (None, 131, 256)          1573120   \n",
            "_________________________________________________________________\n",
            "batch_normalization_1 (Batch (None, 131, 256)          1024      \n",
            "_________________________________________________________________\n",
            "dropout_1 (Dropout)          (None, 131, 256)          0         \n",
            "_________________________________________________________________\n",
            "conv1d_2 (Conv1D)            (None, 63, 256)           459008    \n",
            "_________________________________________________________________\n",
            "batch_normalization_2 (Batch (None, 63, 256)           1024      \n",
            "_________________________________________________________________\n",
            "dropout_2 (Dropout)          (None, 63, 256)           0         \n",
            "_________________________________________________________________\n",
            "bidirectional (Bidirectional (None, 256)               394240    \n",
            "_________________________________________________________________\n",
            "flatten (Flatten)            (None, 256)               0         \n",
            "_________________________________________________________________\n",
            "dense (Dense)                (None, 128)               32896     \n",
            "_________________________________________________________________\n",
            "dropout_3 (Dropout)          (None, 128)               0         \n",
            "_________________________________________________________________\n",
            "dense_1 (Dense)              (None, 64)                8256      \n",
            "_________________________________________________________________\n",
            "dense_2 (Dense)              (None, 1)                 65        \n",
            "=================================================================\n",
            "Total params: 2,529,537\n",
            "Trainable params: 2,527,489\n",
            "Non-trainable params: 2,048\n",
            "_________________________________________________________________\n"
          ],
          "name": "stdout"
        }
      ]
    },
    {
      "cell_type": "code",
      "metadata": {
        "colab": {
          "base_uri": "https://localhost:8080/"
        },
        "id": "Ct0lTqyHfOLn",
        "outputId": "54dd892b-2329-45d9-faf8-47beb4153249"
      },
      "source": [
        "init_lr = 1e-4\n",
        "model.compile(loss=tf.keras.losses.BinaryCrossentropy(), \n",
        "              optimizer=tf.keras.optimizers.Adam(learning_rate=init_lr), \n",
        "              metrics=[tf.keras.metrics.BinaryAccuracy(), tf.keras.metrics.Precision(), tf.keras.metrics.Recall(),],\n",
        "              )\n",
        "\n",
        "history = model.fit(X_train, y_train, epochs=100, validation_split=0.1)"
      ],
      "execution_count": 21,
      "outputs": [
        {
          "output_type": "stream",
          "text": [
            "Epoch 1/100\n",
            "2985/2985 [==============================] - 94s 25ms/step - loss: 0.7023 - binary_accuracy: 0.5425 - precision: 0.5436 - recall: 0.5298\n",
            "Epoch 2/100\n",
            "2985/2985 [==============================] - 75s 25ms/step - loss: 0.6844 - binary_accuracy: 0.5892 - precision: 0.5922 - recall: 0.5730\n",
            "Epoch 3/100\n",
            "2985/2985 [==============================] - 76s 25ms/step - loss: 0.6683 - binary_accuracy: 0.6143 - precision: 0.6156 - recall: 0.6085\n",
            "Epoch 4/100\n",
            "2985/2985 [==============================] - 75s 25ms/step - loss: 0.6514 - binary_accuracy: 0.6367 - precision: 0.6378 - recall: 0.6324\n",
            "Epoch 5/100\n",
            "2985/2985 [==============================] - 76s 25ms/step - loss: 0.6355 - binary_accuracy: 0.6551 - precision: 0.6556 - recall: 0.6533\n",
            "Epoch 6/100\n",
            "2985/2985 [==============================] - 75s 25ms/step - loss: 0.6203 - binary_accuracy: 0.6715 - precision: 0.6691 - recall: 0.6787\n",
            "Epoch 7/100\n",
            "2985/2985 [==============================] - 75s 25ms/step - loss: 0.6059 - binary_accuracy: 0.6858 - precision: 0.6806 - recall: 0.7001\n",
            "Epoch 8/100\n",
            "2985/2985 [==============================] - 75s 25ms/step - loss: 0.5946 - binary_accuracy: 0.6955 - precision: 0.6869 - recall: 0.7185\n",
            "Epoch 9/100\n",
            "2985/2985 [==============================] - 75s 25ms/step - loss: 0.5838 - binary_accuracy: 0.7049 - precision: 0.6953 - recall: 0.7296\n",
            "Epoch 10/100\n",
            "2985/2985 [==============================] - 75s 25ms/step - loss: 0.5714 - binary_accuracy: 0.7133 - precision: 0.7016 - recall: 0.7421\n",
            "Epoch 11/100\n",
            "2985/2985 [==============================] - 75s 25ms/step - loss: 0.5624 - binary_accuracy: 0.7198 - precision: 0.7062 - recall: 0.7529\n",
            "Epoch 12/100\n",
            "2985/2985 [==============================] - 75s 25ms/step - loss: 0.5518 - binary_accuracy: 0.7291 - precision: 0.7142 - recall: 0.7640\n",
            "Epoch 13/100\n",
            "2985/2985 [==============================] - 75s 25ms/step - loss: 0.5429 - binary_accuracy: 0.7345 - precision: 0.7168 - recall: 0.7753\n",
            "Epoch 14/100\n",
            "2985/2985 [==============================] - 75s 25ms/step - loss: 0.5307 - binary_accuracy: 0.7438 - precision: 0.7248 - recall: 0.7862\n",
            "Epoch 15/100\n",
            "2985/2985 [==============================] - 75s 25ms/step - loss: 0.5229 - binary_accuracy: 0.7487 - precision: 0.7294 - recall: 0.7910\n",
            "Epoch 16/100\n",
            "2985/2985 [==============================] - 75s 25ms/step - loss: 0.5156 - binary_accuracy: 0.7537 - precision: 0.7344 - recall: 0.7948\n",
            "Epoch 17/100\n",
            "2985/2985 [==============================] - 76s 25ms/step - loss: 0.5039 - binary_accuracy: 0.7632 - precision: 0.7414 - recall: 0.8083\n",
            "Epoch 18/100\n",
            "2985/2985 [==============================] - 76s 25ms/step - loss: 0.4957 - binary_accuracy: 0.7692 - precision: 0.7475 - recall: 0.8130\n",
            "Epoch 19/100\n",
            "2985/2985 [==============================] - 76s 25ms/step - loss: 0.4918 - binary_accuracy: 0.7717 - precision: 0.7510 - recall: 0.8130\n",
            "Epoch 20/100\n",
            "2985/2985 [==============================] - 75s 25ms/step - loss: 0.4812 - binary_accuracy: 0.7788 - precision: 0.7558 - recall: 0.8236\n",
            "Epoch 21/100\n",
            "2985/2985 [==============================] - 75s 25ms/step - loss: 0.4745 - binary_accuracy: 0.7840 - precision: 0.7623 - recall: 0.8255\n",
            "Epoch 22/100\n",
            "2985/2985 [==============================] - 75s 25ms/step - loss: 0.4688 - binary_accuracy: 0.7890 - precision: 0.7672 - recall: 0.8298\n",
            "Epoch 23/100\n",
            "2985/2985 [==============================] - 76s 25ms/step - loss: 0.4604 - binary_accuracy: 0.7931 - precision: 0.7702 - recall: 0.8354\n",
            "Epoch 24/100\n",
            "2985/2985 [==============================] - 75s 25ms/step - loss: 0.4533 - binary_accuracy: 0.7984 - precision: 0.7770 - recall: 0.8370\n",
            "Epoch 25/100\n",
            "2985/2985 [==============================] - 75s 25ms/step - loss: 0.4456 - binary_accuracy: 0.8042 - precision: 0.7819 - recall: 0.8438\n",
            "Epoch 26/100\n",
            "2985/2985 [==============================] - 75s 25ms/step - loss: 0.4391 - binary_accuracy: 0.8085 - precision: 0.7851 - recall: 0.8494\n",
            "Epoch 27/100\n",
            "2985/2985 [==============================] - 75s 25ms/step - loss: 0.4321 - binary_accuracy: 0.8125 - precision: 0.7907 - recall: 0.8500\n",
            "Epoch 28/100\n",
            "2985/2985 [==============================] - 75s 25ms/step - loss: 0.4273 - binary_accuracy: 0.8158 - precision: 0.7947 - recall: 0.8515\n",
            "Epoch 29/100\n",
            "2985/2985 [==============================] - 75s 25ms/step - loss: 0.4234 - binary_accuracy: 0.8176 - precision: 0.7972 - recall: 0.8520\n",
            "Epoch 30/100\n",
            "2985/2985 [==============================] - 75s 25ms/step - loss: 0.4140 - binary_accuracy: 0.8242 - precision: 0.8049 - recall: 0.8559\n",
            "Epoch 31/100\n",
            "2985/2985 [==============================] - 75s 25ms/step - loss: 0.4074 - binary_accuracy: 0.8286 - precision: 0.8097 - recall: 0.8591\n",
            "Epoch 32/100\n",
            "2985/2985 [==============================] - 75s 25ms/step - loss: 0.4028 - binary_accuracy: 0.8319 - precision: 0.8139 - recall: 0.8606\n",
            "Epoch 33/100\n",
            "2985/2985 [==============================] - 75s 25ms/step - loss: 0.3957 - binary_accuracy: 0.8365 - precision: 0.8174 - recall: 0.8665\n",
            "Epoch 34/100\n",
            "2985/2985 [==============================] - 75s 25ms/step - loss: 0.3910 - binary_accuracy: 0.8396 - precision: 0.8221 - recall: 0.8668\n",
            "Epoch 35/100\n",
            "2985/2985 [==============================] - 75s 25ms/step - loss: 0.3885 - binary_accuracy: 0.8409 - precision: 0.8239 - recall: 0.8671\n",
            "Epoch 36/100\n",
            "2985/2985 [==============================] - 75s 25ms/step - loss: 0.3813 - binary_accuracy: 0.8455 - precision: 0.8306 - recall: 0.8681\n",
            "Epoch 37/100\n",
            "2985/2985 [==============================] - 75s 25ms/step - loss: 0.3750 - binary_accuracy: 0.8480 - precision: 0.8321 - recall: 0.8719\n",
            "Epoch 38/100\n",
            "2985/2985 [==============================] - 75s 25ms/step - loss: 0.3706 - binary_accuracy: 0.8521 - precision: 0.8355 - recall: 0.8767\n",
            "Epoch 39/100\n",
            "2985/2985 [==============================] - 75s 25ms/step - loss: 0.3650 - binary_accuracy: 0.8542 - precision: 0.8382 - recall: 0.8780\n",
            "Epoch 40/100\n",
            "2985/2985 [==============================] - 75s 25ms/step - loss: 0.3601 - binary_accuracy: 0.8573 - precision: 0.8408 - recall: 0.8814\n",
            "Epoch 41/100\n",
            "2985/2985 [==============================] - 75s 25ms/step - loss: 0.3580 - binary_accuracy: 0.8593 - precision: 0.8426 - recall: 0.8836\n",
            "Epoch 42/100\n",
            "2985/2985 [==============================] - 75s 25ms/step - loss: 0.3519 - binary_accuracy: 0.8624 - precision: 0.8471 - recall: 0.8844\n",
            "Epoch 43/100\n",
            "2985/2985 [==============================] - 75s 25ms/step - loss: 0.3496 - binary_accuracy: 0.8631 - precision: 0.8483 - recall: 0.8844\n",
            "Epoch 44/100\n",
            "2985/2985 [==============================] - 76s 25ms/step - loss: 0.3480 - binary_accuracy: 0.8652 - precision: 0.8497 - recall: 0.8873\n",
            "Epoch 45/100\n",
            "2985/2985 [==============================] - 76s 25ms/step - loss: 0.3435 - binary_accuracy: 0.8676 - precision: 0.8520 - recall: 0.8898\n",
            "Epoch 46/100\n",
            "2985/2985 [==============================] - 76s 25ms/step - loss: 0.3399 - binary_accuracy: 0.8691 - precision: 0.8547 - recall: 0.8894\n",
            "Epoch 47/100\n",
            "2985/2985 [==============================] - 75s 25ms/step - loss: 0.3328 - binary_accuracy: 0.8739 - precision: 0.8611 - recall: 0.8916\n",
            "Epoch 48/100\n",
            "2985/2985 [==============================] - 75s 25ms/step - loss: 0.3340 - binary_accuracy: 0.8711 - precision: 0.8565 - recall: 0.8918\n",
            "Epoch 49/100\n",
            "2985/2985 [==============================] - 75s 25ms/step - loss: 0.3249 - binary_accuracy: 0.8767 - precision: 0.8623 - recall: 0.8966\n",
            "Epoch 50/100\n",
            "2985/2985 [==============================] - 75s 25ms/step - loss: 0.3249 - binary_accuracy: 0.8779 - precision: 0.8651 - recall: 0.8955\n",
            "Epoch 51/100\n",
            "2985/2985 [==============================] - 75s 25ms/step - loss: 0.3235 - binary_accuracy: 0.8781 - precision: 0.8650 - recall: 0.8959\n",
            "Epoch 52/100\n",
            "2985/2985 [==============================] - 75s 25ms/step - loss: 0.3223 - binary_accuracy: 0.8806 - precision: 0.8680 - recall: 0.8977\n",
            "Epoch 53/100\n",
            "2985/2985 [==============================] - 75s 25ms/step - loss: 0.3199 - binary_accuracy: 0.8808 - precision: 0.8675 - recall: 0.8990\n",
            "Epoch 54/100\n",
            "2985/2985 [==============================] - 75s 25ms/step - loss: 0.3138 - binary_accuracy: 0.8845 - precision: 0.8720 - recall: 0.9012\n",
            "Epoch 55/100\n",
            "2985/2985 [==============================] - 75s 25ms/step - loss: 0.3131 - binary_accuracy: 0.8847 - precision: 0.8724 - recall: 0.9013\n",
            "Epoch 56/100\n",
            "2985/2985 [==============================] - 75s 25ms/step - loss: 0.3134 - binary_accuracy: 0.8853 - precision: 0.8731 - recall: 0.9017\n",
            "Epoch 57/100\n",
            "2985/2985 [==============================] - 75s 25ms/step - loss: 0.3090 - binary_accuracy: 0.8890 - precision: 0.8768 - recall: 0.9051\n",
            "Epoch 58/100\n",
            "2985/2985 [==============================] - 75s 25ms/step - loss: 0.3087 - binary_accuracy: 0.8871 - precision: 0.8751 - recall: 0.9030\n",
            "Epoch 59/100\n",
            "2985/2985 [==============================] - 75s 25ms/step - loss: 0.3042 - binary_accuracy: 0.8911 - precision: 0.8815 - recall: 0.9036\n",
            "Epoch 60/100\n",
            "2985/2985 [==============================] - 76s 25ms/step - loss: 0.3021 - binary_accuracy: 0.8911 - precision: 0.8806 - recall: 0.9050\n",
            "Epoch 61/100\n",
            "2985/2985 [==============================] - 75s 25ms/step - loss: 0.3027 - binary_accuracy: 0.8907 - precision: 0.8793 - recall: 0.9055\n",
            "Epoch 62/100\n",
            "2985/2985 [==============================] - 75s 25ms/step - loss: 0.2989 - binary_accuracy: 0.8941 - precision: 0.8834 - recall: 0.9082\n",
            "Epoch 63/100\n",
            "2985/2985 [==============================] - 75s 25ms/step - loss: 0.2957 - binary_accuracy: 0.8952 - precision: 0.8845 - recall: 0.9090\n",
            "Epoch 64/100\n",
            "2985/2985 [==============================] - 75s 25ms/step - loss: 0.2927 - binary_accuracy: 0.8970 - precision: 0.8859 - recall: 0.9113\n",
            "Epoch 65/100\n",
            "2985/2985 [==============================] - 76s 25ms/step - loss: 0.2926 - binary_accuracy: 0.8967 - precision: 0.8873 - recall: 0.9088\n",
            "Epoch 66/100\n",
            "2985/2985 [==============================] - 75s 25ms/step - loss: 0.2874 - binary_accuracy: 0.9001 - precision: 0.8895 - recall: 0.9138\n",
            "Epoch 67/100\n",
            "2985/2985 [==============================] - 75s 25ms/step - loss: 0.2865 - binary_accuracy: 0.9006 - precision: 0.8915 - recall: 0.9123\n",
            "Epoch 68/100\n",
            "2985/2985 [==============================] - 75s 25ms/step - loss: 0.2874 - binary_accuracy: 0.8996 - precision: 0.8910 - recall: 0.9107\n",
            "Epoch 69/100\n",
            "2985/2985 [==============================] - 75s 25ms/step - loss: 0.2848 - binary_accuracy: 0.9018 - precision: 0.8925 - recall: 0.9136\n",
            "Epoch 70/100\n",
            "2985/2985 [==============================] - 75s 25ms/step - loss: 0.2841 - binary_accuracy: 0.9023 - precision: 0.8929 - recall: 0.9142\n",
            "Epoch 71/100\n",
            "2985/2985 [==============================] - 75s 25ms/step - loss: 0.2842 - binary_accuracy: 0.9021 - precision: 0.8930 - recall: 0.9136\n",
            "Epoch 72/100\n",
            "2985/2985 [==============================] - 75s 25ms/step - loss: 0.2817 - binary_accuracy: 0.9036 - precision: 0.8948 - recall: 0.9148\n",
            "Epoch 73/100\n",
            "2985/2985 [==============================] - 76s 25ms/step - loss: 0.2795 - binary_accuracy: 0.9052 - precision: 0.8972 - recall: 0.9153\n",
            "Epoch 74/100\n",
            "2985/2985 [==============================] - 76s 25ms/step - loss: 0.2757 - binary_accuracy: 0.9064 - precision: 0.8983 - recall: 0.9166\n",
            "Epoch 75/100\n",
            "2985/2985 [==============================] - 75s 25ms/step - loss: 0.2799 - binary_accuracy: 0.9050 - precision: 0.8966 - recall: 0.9155\n",
            "Epoch 76/100\n",
            "2985/2985 [==============================] - 76s 25ms/step - loss: 0.2805 - binary_accuracy: 0.9041 - precision: 0.8949 - recall: 0.9157\n",
            "Epoch 77/100\n",
            "2985/2985 [==============================] - 75s 25ms/step - loss: 0.2708 - binary_accuracy: 0.9094 - precision: 0.9018 - recall: 0.9188\n",
            "Epoch 78/100\n",
            "2985/2985 [==============================] - 75s 25ms/step - loss: 0.2728 - binary_accuracy: 0.9080 - precision: 0.8999 - recall: 0.9182\n",
            "Epoch 79/100\n",
            "2985/2985 [==============================] - 75s 25ms/step - loss: 0.2714 - binary_accuracy: 0.9095 - precision: 0.9014 - recall: 0.9196\n",
            "Epoch 80/100\n",
            "2985/2985 [==============================] - 75s 25ms/step - loss: 0.2732 - binary_accuracy: 0.9097 - precision: 0.9020 - recall: 0.9192\n",
            "Epoch 81/100\n",
            "2985/2985 [==============================] - 75s 25ms/step - loss: 0.2709 - binary_accuracy: 0.9093 - precision: 0.9017 - recall: 0.9188\n",
            "Epoch 82/100\n",
            "2985/2985 [==============================] - 75s 25ms/step - loss: 0.2679 - binary_accuracy: 0.9121 - precision: 0.9042 - recall: 0.9220\n",
            "Epoch 83/100\n",
            "2985/2985 [==============================] - 75s 25ms/step - loss: 0.2679 - binary_accuracy: 0.9124 - precision: 0.9056 - recall: 0.9208\n",
            "Epoch 84/100\n",
            "2985/2985 [==============================] - 75s 25ms/step - loss: 0.2661 - binary_accuracy: 0.9130 - precision: 0.9054 - recall: 0.9224\n",
            "Epoch 85/100\n",
            "2985/2985 [==============================] - 75s 25ms/step - loss: 0.2630 - binary_accuracy: 0.9145 - precision: 0.9078 - recall: 0.9226\n",
            "Epoch 86/100\n",
            "2985/2985 [==============================] - 75s 25ms/step - loss: 0.2624 - binary_accuracy: 0.9142 - precision: 0.9065 - recall: 0.9237\n",
            "Epoch 87/100\n",
            "2985/2985 [==============================] - 75s 25ms/step - loss: 0.2622 - binary_accuracy: 0.9164 - precision: 0.9100 - recall: 0.9242\n",
            "Epoch 88/100\n",
            "2985/2985 [==============================] - 75s 25ms/step - loss: 0.2609 - binary_accuracy: 0.9159 - precision: 0.9078 - recall: 0.9258\n",
            "Epoch 89/100\n",
            "2985/2985 [==============================] - 75s 25ms/step - loss: 0.2614 - binary_accuracy: 0.9146 - precision: 0.9085 - recall: 0.9221\n",
            "Epoch 90/100\n",
            "2985/2985 [==============================] - 75s 25ms/step - loss: 0.2594 - binary_accuracy: 0.9164 - precision: 0.9098 - recall: 0.9245\n",
            "Epoch 91/100\n",
            "2985/2985 [==============================] - 75s 25ms/step - loss: 0.2572 - binary_accuracy: 0.9181 - precision: 0.9108 - recall: 0.9270\n",
            "Epoch 92/100\n",
            "2985/2985 [==============================] - 75s 25ms/step - loss: 0.2578 - binary_accuracy: 0.9180 - precision: 0.9115 - recall: 0.9258\n",
            "Epoch 93/100\n",
            "2985/2985 [==============================] - 75s 25ms/step - loss: 0.2554 - binary_accuracy: 0.9194 - precision: 0.9131 - recall: 0.9269\n",
            "Epoch 94/100\n",
            "2985/2985 [==============================] - 75s 25ms/step - loss: 0.2564 - binary_accuracy: 0.9184 - precision: 0.9119 - recall: 0.9263\n",
            "Epoch 95/100\n",
            "2985/2985 [==============================] - 75s 25ms/step - loss: 0.2555 - binary_accuracy: 0.9197 - precision: 0.9137 - recall: 0.9270\n",
            "Epoch 96/100\n",
            "2985/2985 [==============================] - 75s 25ms/step - loss: 0.2511 - binary_accuracy: 0.9210 - precision: 0.9164 - recall: 0.9266\n",
            "Epoch 97/100\n",
            "2985/2985 [==============================] - 75s 25ms/step - loss: 0.2541 - binary_accuracy: 0.9201 - precision: 0.9149 - recall: 0.9264\n",
            "Epoch 98/100\n",
            "2985/2985 [==============================] - 75s 25ms/step - loss: 0.2545 - binary_accuracy: 0.9206 - precision: 0.9134 - recall: 0.9292\n",
            "Epoch 99/100\n",
            "2985/2985 [==============================] - 76s 25ms/step - loss: 0.2528 - binary_accuracy: 0.9213 - precision: 0.9158 - recall: 0.9280\n",
            "Epoch 100/100\n",
            "2985/2985 [==============================] - 76s 26ms/step - loss: 0.2488 - binary_accuracy: 0.9238 - precision: 0.9177 - recall: 0.9312\n"
          ],
          "name": "stdout"
        }
      ]
    },
    {
      "cell_type": "markdown",
      "metadata": {
        "id": "Llf6NHEFqvLd"
      },
      "source": [
        "# Visualize Training"
      ]
    },
    {
      "cell_type": "code",
      "metadata": {
        "id": "MCC68mBfRhvr"
      },
      "source": [
        "# loss = history.history['loss']\n",
        "# val_loss = history.history['val_loss']\n",
        "\n",
        "# plt.figure()\n",
        "# plt.plot(history.epoch, loss, 'b', label='Training loss')\n",
        "# plt.plot(history.epoch, val_loss, 'c', label='Validation loss')\n",
        "# plt.title('Training and Validation Loss')\n",
        "# plt.xlabel('Epoch')\n",
        "# plt.ylabel('Loss Value')\n",
        "# plt.ylim([0, 1])\n",
        "# plt.legend()\n",
        "# plt.show()\n",
        "\n",
        "# ##########################################################\n",
        "\n",
        "# metrics = history.history['binary_accuracy']\n",
        "# val_metrics = history.history['val_binary_accuracy']\n",
        "\n",
        "# plt.figure()\n",
        "# plt.plot(history.epoch, metrics, 'r', label='Training accuracy')\n",
        "# plt.plot(history.epoch, val_metrics, 'g', label='Validation accuracy')\n",
        "# plt.title('Training and Validation Accuracy')\n",
        "# plt.xlabel('Epoch')\n",
        "# plt.ylabel('Accuracy Value')\n",
        "# plt.ylim([0, 1])\n",
        "# plt.legend()\n",
        "# plt.show()\n",
        "\n",
        "# ##########################################################\n",
        "\n",
        "# metrics = history.history['precision']\n",
        "# val_metrics = history.history['val_precision']\n",
        "\n",
        "# plt.figure()\n",
        "# plt.plot(history.epoch, metrics, 'r', label='Training precision')\n",
        "# plt.plot(history.epoch, val_metrics, 'g', label='Validation precision')\n",
        "# plt.title('Training and Validation Precision')\n",
        "# plt.xlabel('Epoch')\n",
        "# plt.ylabel('Precision Value')\n",
        "# plt.ylim([0, 1])\n",
        "# plt.legend()\n",
        "# plt.show()\n",
        "\n",
        "# ##########################################################\n",
        "\n",
        "# metrics = history.history['recall']\n",
        "# val_metrics = history.history['val_recall']\n",
        "\n",
        "# plt.figure()\n",
        "# plt.plot(history.epoch, metrics, 'r', label='Training recall')\n",
        "# plt.plot(history.epoch, val_metrics, 'g', label='Validation recall')\n",
        "# plt.title('Training and Validation Recall')\n",
        "# plt.xlabel('Epoch')\n",
        "# plt.ylabel('Recall Value')\n",
        "# plt.ylim([0, 1])\n",
        "# plt.legend()\n",
        "# plt.show()\n"
      ],
      "execution_count": null,
      "outputs": []
    },
    {
      "cell_type": "markdown",
      "metadata": {
        "id": "mw6RE1sAq0hs"
      },
      "source": [
        "# Evaluate Model"
      ]
    },
    {
      "cell_type": "markdown",
      "metadata": {
        "id": "J8pXpdloGcwC"
      },
      "source": [
        "## Human testing"
      ]
    },
    {
      "cell_type": "code",
      "metadata": {
        "id": "jqlRZvMGD8fa",
        "colab": {
          "base_uri": "https://localhost:8080/"
        },
        "outputId": "0835fa74-ff8f-475d-e056-a8969005132e"
      },
      "source": [
        "_, acc, prec, recall = model.evaluate(X_test_human_comb, y_test_human_comb, verbose=2)\n",
        "print(\"**** HUMAN ****\\nAccuracy: {:.2f}%\\nPrecision: {:.2f}%\\nRecall: {:.2f}%\".format(acc*100, prec*100, recall*100))"
      ],
      "execution_count": 27,
      "outputs": [
        {
          "output_type": "stream",
          "text": [
            "166/166 - 1s - loss: 0.8401 - binary_accuracy: 0.7071 - precision: 0.7817 - recall: 0.5748\n",
            "**** HUMAN ****\n",
            "Accuracy: 70.71%\n",
            "Precision: 78.17%\n",
            "Recall: 57.48%\n"
          ],
          "name": "stdout"
        }
      ]
    },
    {
      "cell_type": "markdown",
      "metadata": {
        "id": "Obx2lQPHGe-h"
      },
      "source": [
        "## Mouse testing"
      ]
    },
    {
      "cell_type": "code",
      "metadata": {
        "id": "6cG7Xa65GelD",
        "colab": {
          "base_uri": "https://localhost:8080/"
        },
        "outputId": "3bdea5ac-4f06-4fae-d54d-d3dd71ce3ff2"
      },
      "source": [
        "_, acc, prec, recall = model.evaluate(X_test_mouse_comb, y_test_mouse_comb, verbose=2)\n",
        "print(\"**** Mouse ****\\nAccuracy: {:.2f}%\\nPrecision: {:.2f}%\\nRecall: {:.2f}%\".format(acc*100, prec*100, recall*100))"
      ],
      "execution_count": 28,
      "outputs": [
        {
          "output_type": "stream",
          "text": [
            "166/166 - 1s - loss: 0.8287 - binary_accuracy: 0.7145 - precision: 0.7976 - recall: 0.5748\n",
            "**** Mouse ****\n",
            "Accuracy: 71.45%\n",
            "Precision: 79.76%\n",
            "Recall: 57.48%\n"
          ],
          "name": "stdout"
        }
      ]
    },
    {
      "cell_type": "markdown",
      "metadata": {
        "id": "ulob0kmKGppW"
      },
      "source": [
        "# Reset Model"
      ]
    },
    {
      "cell_type": "code",
      "metadata": {
        "id": "AklbhESaTZBp"
      },
      "source": [
        "'''Uncomment to reset tensorflow graphs'''\n",
        "# tf.keras.backend.clear_session()"
      ],
      "execution_count": null,
      "outputs": []
    }
  ]
}