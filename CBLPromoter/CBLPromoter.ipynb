{
 "cells": [
  {
   "cell_type": "markdown",
   "id": "08655f6c",
   "metadata": {
    "id": "qydnPbnpwhfD",
    "papermill": {
     "duration": 0.026718,
     "end_time": "2021-07-26T01:16:09.597160",
     "exception": false,
     "start_time": "2021-07-26T01:16:09.570442",
     "status": "completed"
    },
    "tags": []
   },
   "source": [
    "## CBLPromoter\n",
    "### by Jason Ohanaga"
   ]
  },
  {
   "cell_type": "markdown",
   "id": "2c299fdb",
   "metadata": {
    "id": "VthGxFZCpqRX",
    "papermill": {
     "duration": 0.025555,
     "end_time": "2021-07-26T01:16:09.648380",
     "exception": false,
     "start_time": "2021-07-26T01:16:09.622825",
     "status": "completed"
    },
    "tags": []
   },
   "source": [
    "# Import Libraries"
   ]
  },
  {
   "cell_type": "code",
   "execution_count": 1,
   "id": "2affb11f",
   "metadata": {
    "execution": {
     "iopub.execute_input": "2021-07-26T01:16:09.711653Z",
     "iopub.status.busy": "2021-07-26T01:16:09.711102Z",
     "iopub.status.idle": "2021-07-26T01:16:33.797437Z",
     "shell.execute_reply": "2021-07-26T01:16:33.796758Z",
     "shell.execute_reply.started": "2021-07-26T01:06:52.599745Z"
    },
    "id": "mLoDJgJApzAb",
    "outputId": "6c3bc1da-cf03-4690-99fa-5f0816faf83b",
    "papermill": {
     "duration": 24.123698,
     "end_time": "2021-07-26T01:16:33.797588",
     "exception": false,
     "start_time": "2021-07-26T01:16:09.673890",
     "status": "completed"
    },
    "tags": []
   },
   "outputs": [
    {
     "name": "stdout",
     "output_type": "stream",
     "text": [
      "Collecting Bio\r\n",
      "  Downloading bio-0.5.0-py3-none-any.whl (94 kB)\r\n",
      "\u001b[K     |████████████████████████████████| 94 kB 862 kB/s \r\n",
      "\u001b[?25hRequirement already satisfied: plac in /opt/conda/lib/python3.7/site-packages (from Bio) (1.1.3)\r\n",
      "Requirement already satisfied: numpy<1.20 in /opt/conda/lib/python3.7/site-packages (from Bio) (1.19.5)\r\n",
      "Requirement already satisfied: biopython>=1.78 in /opt/conda/lib/python3.7/site-packages (from Bio) (1.79)\r\n",
      "Requirement already satisfied: requests in /opt/conda/lib/python3.7/site-packages (from Bio) (2.25.1)\r\n",
      "Requirement already satisfied: urllib3<1.27,>=1.21.1 in /opt/conda/lib/python3.7/site-packages (from requests->Bio) (1.26.5)\r\n",
      "Requirement already satisfied: idna<3,>=2.5 in /opt/conda/lib/python3.7/site-packages (from requests->Bio) (2.10)\r\n",
      "Requirement already satisfied: certifi>=2017.4.17 in /opt/conda/lib/python3.7/site-packages (from requests->Bio) (2021.5.30)\r\n",
      "Requirement already satisfied: chardet<5,>=3.0.2 in /opt/conda/lib/python3.7/site-packages (from requests->Bio) (4.0.0)\r\n",
      "Installing collected packages: Bio\r\n",
      "Successfully installed Bio-0.5.0\r\n",
      "\u001b[33mWARNING: Running pip as root will break packages and permissions. You should install packages reliably by using venv: https://pip.pypa.io/warnings/venv\u001b[0m\r\n",
      "Collecting gdown\r\n",
      "  Downloading gdown-3.13.0.tar.gz (9.3 kB)\r\n",
      "  Installing build dependencies ... \u001b[?25l-\b \b\\\b \b|\b \b/\b \b-\b \bdone\r\n",
      "\u001b[?25h  Getting requirements to build wheel ... \u001b[?25l-\b \bdone\r\n",
      "\u001b[?25h    Preparing wheel metadata ... \u001b[?25l-\b \bdone\r\n",
      "\u001b[?25hRequirement already satisfied: requests[socks]>=2.12.0 in /opt/conda/lib/python3.7/site-packages (from gdown) (2.25.1)\r\n",
      "Requirement already satisfied: six in /opt/conda/lib/python3.7/site-packages (from gdown) (1.15.0)\r\n",
      "Requirement already satisfied: tqdm in /opt/conda/lib/python3.7/site-packages (from gdown) (4.61.1)\r\n",
      "Requirement already satisfied: filelock in /opt/conda/lib/python3.7/site-packages (from gdown) (3.0.12)\r\n",
      "Requirement already satisfied: certifi>=2017.4.17 in /opt/conda/lib/python3.7/site-packages (from requests[socks]>=2.12.0->gdown) (2021.5.30)\r\n",
      "Requirement already satisfied: urllib3<1.27,>=1.21.1 in /opt/conda/lib/python3.7/site-packages (from requests[socks]>=2.12.0->gdown) (1.26.5)\r\n",
      "Requirement already satisfied: idna<3,>=2.5 in /opt/conda/lib/python3.7/site-packages (from requests[socks]>=2.12.0->gdown) (2.10)\r\n",
      "Requirement already satisfied: chardet<5,>=3.0.2 in /opt/conda/lib/python3.7/site-packages (from requests[socks]>=2.12.0->gdown) (4.0.0)\r\n",
      "Requirement already satisfied: PySocks!=1.5.7,>=1.5.6 in /opt/conda/lib/python3.7/site-packages (from requests[socks]>=2.12.0->gdown) (1.7.1)\r\n",
      "Building wheels for collected packages: gdown\r\n",
      "  Building wheel for gdown (PEP 517) ... \u001b[?25l-\b \bdone\r\n",
      "\u001b[?25h  Created wheel for gdown: filename=gdown-3.13.0-py3-none-any.whl size=9034 sha256=e4a598dcba49b6a2a788eb24eff0ff4cc63ba302ee1cd0ab0463ace9e068c9d8\r\n",
      "  Stored in directory: /root/.cache/pip/wheels/2f/2a/2f/86449b6bdbaa9aef873f68332b68be6bfbc386b9219f47157d\r\n",
      "Successfully built gdown\r\n",
      "Installing collected packages: gdown\r\n",
      "Successfully installed gdown-3.13.0\r\n",
      "\u001b[33mWARNING: Running pip as root will break packages and permissions. You should install packages reliably by using venv: https://pip.pypa.io/warnings/venv\u001b[0m\r\n"
     ]
    }
   ],
   "source": [
    "!pip install Bio\n",
    "!pip install gdown"
   ]
  },
  {
   "cell_type": "code",
   "execution_count": 2,
   "id": "22ab8f05",
   "metadata": {
    "execution": {
     "iopub.execute_input": "2021-07-26T01:16:33.869364Z",
     "iopub.status.busy": "2021-07-26T01:16:33.868486Z",
     "iopub.status.idle": "2021-07-26T01:16:38.455226Z",
     "shell.execute_reply": "2021-07-26T01:16:38.454760Z",
     "shell.execute_reply.started": "2021-07-26T01:07:16.357769Z"
    },
    "id": "db8B4P-yppxv",
    "papermill": {
     "duration": 4.624444,
     "end_time": "2021-07-26T01:16:38.455402",
     "exception": false,
     "start_time": "2021-07-26T01:16:33.830958",
     "status": "completed"
    },
    "tags": []
   },
   "outputs": [],
   "source": [
    "import pandas as pd\n",
    "import numpy as np\n",
    "import re\n",
    "import random\n",
    "\n",
    "import textwrap\n",
    "from Bio import SeqIO\n",
    "import matplotlib.pyplot as plt\n",
    "\n",
    "import tensorflow as tf\n",
    "from tensorflow import keras\n",
    "\n",
    "from sklearn.preprocessing import LabelEncoder\n",
    "from sklearn.preprocessing import OneHotEncoder\n",
    "from sklearn.utils import shuffle"
   ]
  },
  {
   "cell_type": "markdown",
   "id": "8ca28ded",
   "metadata": {
    "id": "YDyP2MHoD8fN",
    "papermill": {
     "duration": 0.03168,
     "end_time": "2021-07-26T01:16:38.520768",
     "exception": false,
     "start_time": "2021-07-26T01:16:38.489088",
     "status": "completed"
    },
    "tags": []
   },
   "source": [
    "# Load Data"
   ]
  },
  {
   "cell_type": "code",
   "execution_count": 3,
   "id": "396e94f0",
   "metadata": {
    "execution": {
     "iopub.execute_input": "2021-07-26T01:16:38.596160Z",
     "iopub.status.busy": "2021-07-26T01:16:38.590038Z",
     "iopub.status.idle": "2021-07-26T01:16:50.398803Z",
     "shell.execute_reply": "2021-07-26T01:16:50.398225Z",
     "shell.execute_reply.started": "2021-07-26T01:07:21.479492Z"
    },
    "id": "4d9xRESUD8fO",
    "outputId": "551eca89-ee7a-460b-d5bc-dde094ef335e",
    "papermill": {
     "duration": 11.846408,
     "end_time": "2021-07-26T01:16:50.398931",
     "exception": false,
     "start_time": "2021-07-26T01:16:38.552523",
     "status": "completed"
    },
    "tags": []
   },
   "outputs": [
    {
     "name": "stdout",
     "output_type": "stream",
     "text": [
      "Downloading...\r\n",
      "From: https://drive.google.com/uc?id=199We0DbFLfSthZty69VvUt7nGxP6w5Ft\r\n",
      "To: /kaggle/working/dp_human_non_tata\r\n",
      "9.79MB [00:00, 175MB/s]\r\n",
      "Downloading...\r\n",
      "From: https://drive.google.com/uc?id=1Mkbq-4WrWVi5dvIchCzHjOvb_mtyrahw\r\n",
      "To: /kaggle/working/dp_human_tata\r\n",
      "100%|███████████████████████████████████████| 1.13M/1.13M [00:00<00:00, 116MB/s]\r\n",
      "Downloading...\r\n",
      "From: https://drive.google.com/uc?id=1FPasW-WX5r-IwulnAEbm1e_ZiLcq17vQ\r\n",
      "To: /kaggle/working/dp_mouse_non_tata\r\n",
      "9.79MB [00:00, 292MB/s]\r\n",
      "Downloading...\r\n",
      "From: https://drive.google.com/uc?id=1aAoUA7omGZDJqIr3KkPL93X6v2I2s_TA\r\n",
      "To: /kaggle/working/dp_mouse_tata\r\n",
      "100%|███████████████████████████████████████| 1.13M/1.13M [00:00<00:00, 123MB/s]\r\n"
     ]
    }
   ],
   "source": [
    "!gdown --id 199We0DbFLfSthZty69VvUt7nGxP6w5Ft\n",
    "!gdown --id 1Mkbq-4WrWVi5dvIchCzHjOvb_mtyrahw\n",
    "!gdown --id 1FPasW-WX5r-IwulnAEbm1e_ZiLcq17vQ\n",
    "!gdown --id 1aAoUA7omGZDJqIr3KkPL93X6v2I2s_TA"
   ]
  },
  {
   "cell_type": "code",
   "execution_count": 4,
   "id": "291a8e43",
   "metadata": {
    "execution": {
     "iopub.execute_input": "2021-07-26T01:16:50.495585Z",
     "iopub.status.busy": "2021-07-26T01:16:50.494760Z",
     "iopub.status.idle": "2021-07-26T01:16:54.066589Z",
     "shell.execute_reply": "2021-07-26T01:16:54.066991Z",
     "shell.execute_reply.started": "2021-07-26T01:07:32.685862Z"
    },
    "id": "YMspYK66D8fP",
    "outputId": "7fd161a0-6e9f-4fe5-9a1d-8ed60371573a",
    "papermill": {
     "duration": 3.624184,
     "end_time": "2021-07-26T01:16:54.067150",
     "exception": false,
     "start_time": "2021-07-26T01:16:50.442966",
     "status": "completed"
    },
    "tags": []
   },
   "outputs": [
    {
     "name": "stdout",
     "output_type": "stream",
     "text": [
      "__notebook__.ipynb  dp_mouse_non_tata\t  human_tata.fasta\r\n",
      "dp_human_non_tata   dp_mouse_tata\t  mouse_non_tata.fasta\r\n",
      "dp_human_tata\t    human_non_tata.fasta  mouse_tata.fasta\r\n"
     ]
    }
   ],
   "source": [
    "!cp 'dp_human_non_tata' human_non_tata.fasta\n",
    "!cp 'dp_human_tata' human_tata.fasta\n",
    "!cp 'dp_mouse_non_tata' mouse_non_tata.fasta\n",
    "!cp 'dp_mouse_tata' mouse_tata.fasta\n",
    "!ls"
   ]
  },
  {
   "cell_type": "markdown",
   "id": "52add428",
   "metadata": {
    "id": "9RGUETJQD8fP",
    "papermill": {
     "duration": 0.035126,
     "end_time": "2021-07-26T01:16:54.137527",
     "exception": false,
     "start_time": "2021-07-26T01:16:54.102401",
     "status": "completed"
    },
    "tags": []
   },
   "source": [
    "# Convert Data to Pandas DF"
   ]
  },
  {
   "cell_type": "markdown",
   "id": "746338bb",
   "metadata": {
    "id": "yxkXvnNZD8fQ",
    "papermill": {
     "duration": 0.034379,
     "end_time": "2021-07-26T01:16:54.211120",
     "exception": false,
     "start_time": "2021-07-26T01:16:54.176741",
     "status": "completed"
    },
    "tags": []
   },
   "source": [
    "## Human"
   ]
  },
  {
   "cell_type": "code",
   "execution_count": 5,
   "id": "d2e83081",
   "metadata": {
    "execution": {
     "iopub.execute_input": "2021-07-26T01:16:54.290634Z",
     "iopub.status.busy": "2021-07-26T01:16:54.290068Z",
     "iopub.status.idle": "2021-07-26T01:16:54.811895Z",
     "shell.execute_reply": "2021-07-26T01:16:54.812394Z",
     "shell.execute_reply.started": "2021-07-26T01:07:36.106079Z"
    },
    "id": "VFVapwy9D8fQ",
    "outputId": "3007013e-ce3a-4208-f48d-d34ecb77fcd2",
    "papermill": {
     "duration": 0.566485,
     "end_time": "2021-07-26T01:16:54.812559",
     "exception": false,
     "start_time": "2021-07-26T01:16:54.246074",
     "status": "completed"
    },
    "tags": []
   },
   "outputs": [
    {
     "data": {
      "text/html": [
       "<div>\n",
       "<style scoped>\n",
       "    .dataframe tbody tr th:only-of-type {\n",
       "        vertical-align: middle;\n",
       "    }\n",
       "\n",
       "    .dataframe tbody tr th {\n",
       "        vertical-align: top;\n",
       "    }\n",
       "\n",
       "    .dataframe thead th {\n",
       "        text-align: right;\n",
       "    }\n",
       "</style>\n",
       "<table border=\"1\" class=\"dataframe\">\n",
       "  <thead>\n",
       "    <tr style=\"text-align: right;\">\n",
       "      <th></th>\n",
       "      <th>Name</th>\n",
       "      <th>Sequence</th>\n",
       "    </tr>\n",
       "  </thead>\n",
       "  <tbody>\n",
       "    <tr>\n",
       "      <th>0</th>\n",
       "      <td>FP020532</td>\n",
       "      <td>AGCCACGTGAGTCGCTGGGCTATGGGTGGTGGTGGGGGTGAGGGAG...</td>\n",
       "    </tr>\n",
       "    <tr>\n",
       "      <th>1</th>\n",
       "      <td>FP020301</td>\n",
       "      <td>TACTTCCGGTTTCCACGGAGCTCCGCCCCTTAGGGGGGTTCTCGCT...</td>\n",
       "    </tr>\n",
       "    <tr>\n",
       "      <th>2</th>\n",
       "      <td>FP008839</td>\n",
       "      <td>GGAGCCTGGTAGGGAGGACAAATCTCTCGAAATCTCAGTTGGCGCT...</td>\n",
       "    </tr>\n",
       "    <tr>\n",
       "      <th>3</th>\n",
       "      <td>FP002661</td>\n",
       "      <td>GACCTCCTGTGGTGCTTTCAGTTAGAGCCACTCCCTTTACAAACAA...</td>\n",
       "    </tr>\n",
       "    <tr>\n",
       "      <th>4</th>\n",
       "      <td>FP004964</td>\n",
       "      <td>AATATCTAGGCTTTTAAAATAAGGTGAAAATAAAAGGCAAATTGTC...</td>\n",
       "    </tr>\n",
       "    <tr>\n",
       "      <th>...</th>\n",
       "      <td>...</td>\n",
       "      <td>...</td>\n",
       "    </tr>\n",
       "    <tr>\n",
       "      <th>26528</th>\n",
       "      <td>FP020671</td>\n",
       "      <td>TTAGCCTCTAGGCCTCAGTAGTCCCAGGGAAGTAATAATCGCTATT...</td>\n",
       "    </tr>\n",
       "    <tr>\n",
       "      <th>26529</th>\n",
       "      <td>FP017673</td>\n",
       "      <td>AATTAAACGGTAGTTAAGAGCAAAGGTGAAAATGAGAAAAAAAAGG...</td>\n",
       "    </tr>\n",
       "    <tr>\n",
       "      <th>26530</th>\n",
       "      <td>FP004916</td>\n",
       "      <td>GGAGAGGCTCCCCAAGTTGGCCGGGTGTGGGGAGAGGGGACATAGC...</td>\n",
       "    </tr>\n",
       "    <tr>\n",
       "      <th>26531</th>\n",
       "      <td>FP009666</td>\n",
       "      <td>CGCACAGAGCATTCCGTCACCCCAGGCCCACGCTCTCCAGCCCACC...</td>\n",
       "    </tr>\n",
       "    <tr>\n",
       "      <th>26532</th>\n",
       "      <td>FP019591</td>\n",
       "      <td>ACACTGTCTGCCTGGATGAGGGGTGAGGCTGAGGTGCCCCCTTGCC...</td>\n",
       "    </tr>\n",
       "  </tbody>\n",
       "</table>\n",
       "<p>26533 rows × 2 columns</p>\n",
       "</div>"
      ],
      "text/plain": [
       "           Name                                           Sequence\n",
       "0      FP020532  AGCCACGTGAGTCGCTGGGCTATGGGTGGTGGTGGGGGTGAGGGAG...\n",
       "1      FP020301  TACTTCCGGTTTCCACGGAGCTCCGCCCCTTAGGGGGGTTCTCGCT...\n",
       "2      FP008839  GGAGCCTGGTAGGGAGGACAAATCTCTCGAAATCTCAGTTGGCGCT...\n",
       "3      FP002661  GACCTCCTGTGGTGCTTTCAGTTAGAGCCACTCCCTTTACAAACAA...\n",
       "4      FP004964  AATATCTAGGCTTTTAAAATAAGGTGAAAATAAAAGGCAAATTGTC...\n",
       "...         ...                                                ...\n",
       "26528  FP020671  TTAGCCTCTAGGCCTCAGTAGTCCCAGGGAAGTAATAATCGCTATT...\n",
       "26529  FP017673  AATTAAACGGTAGTTAAGAGCAAAGGTGAAAATGAGAAAAAAAAGG...\n",
       "26530  FP004916  GGAGAGGCTCCCCAAGTTGGCCGGGTGTGGGGAGAGGGGACATAGC...\n",
       "26531  FP009666  CGCACAGAGCATTCCGTCACCCCAGGCCCACGCTCTCCAGCCCACC...\n",
       "26532  FP019591  ACACTGTCTGCCTGGATGAGGGGTGAGGCTGAGGTGCCCCCTTGCC...\n",
       "\n",
       "[26533 rows x 2 columns]"
      ]
     },
     "execution_count": 5,
     "metadata": {},
     "output_type": "execute_result"
    }
   ],
   "source": [
    "records = SeqIO.parse(\"human_non_tata.fasta\", \"fasta\")\n",
    "SeqIO.write(records, \"human_non_tata.tab\", \"tab\")\n",
    "human_df = pd.read_csv('human_non_tata.tab', sep='\\t', header=None)\n",
    "header = ['Name', 'Sequence']\n",
    "human_df.columns = header[:len(human_df.columns)]\n",
    "human_df"
   ]
  },
  {
   "cell_type": "markdown",
   "id": "377a0e53",
   "metadata": {
    "id": "V8Tq-AfLD8fR",
    "papermill": {
     "duration": 0.035234,
     "end_time": "2021-07-26T01:16:54.884392",
     "exception": false,
     "start_time": "2021-07-26T01:16:54.849158",
     "status": "completed"
    },
    "tags": []
   },
   "source": [
    "## Mouse"
   ]
  },
  {
   "cell_type": "code",
   "execution_count": 6,
   "id": "f289f757",
   "metadata": {
    "execution": {
     "iopub.execute_input": "2021-07-26T01:16:54.965865Z",
     "iopub.status.busy": "2021-07-26T01:16:54.964986Z",
     "iopub.status.idle": "2021-07-26T01:16:55.445998Z",
     "shell.execute_reply": "2021-07-26T01:16:55.446667Z",
     "shell.execute_reply.started": "2021-07-26T01:07:36.640638Z"
    },
    "id": "hqDRXtVvD8fS",
    "outputId": "4881e1b6-7544-4507-deab-e06d6f861080",
    "papermill": {
     "duration": 0.522815,
     "end_time": "2021-07-26T01:16:55.446853",
     "exception": false,
     "start_time": "2021-07-26T01:16:54.924038",
     "status": "completed"
    },
    "tags": []
   },
   "outputs": [
    {
     "data": {
      "text/html": [
       "<div>\n",
       "<style scoped>\n",
       "    .dataframe tbody tr th:only-of-type {\n",
       "        vertical-align: middle;\n",
       "    }\n",
       "\n",
       "    .dataframe tbody tr th {\n",
       "        vertical-align: top;\n",
       "    }\n",
       "\n",
       "    .dataframe thead th {\n",
       "        text-align: right;\n",
       "    }\n",
       "</style>\n",
       "<table border=\"1\" class=\"dataframe\">\n",
       "  <thead>\n",
       "    <tr style=\"text-align: right;\">\n",
       "      <th></th>\n",
       "      <th>Name</th>\n",
       "      <th>Sequence</th>\n",
       "    </tr>\n",
       "  </thead>\n",
       "  <tbody>\n",
       "    <tr>\n",
       "      <th>0</th>\n",
       "      <td>FP020532</td>\n",
       "      <td>AGCCACGTGAGTCGCTGGGCTATGGGTGGTGGTGGGGGTGAGGGAG...</td>\n",
       "    </tr>\n",
       "    <tr>\n",
       "      <th>1</th>\n",
       "      <td>FP020301</td>\n",
       "      <td>TACTTCCGGTTTCCACGGAGCTCCGCCCCTTAGGGGGGTTCTCGCT...</td>\n",
       "    </tr>\n",
       "    <tr>\n",
       "      <th>2</th>\n",
       "      <td>FP008839</td>\n",
       "      <td>GGAGCCTGGTAGGGAGGACAAATCTCTCGAAATCTCAGTTGGCGCT...</td>\n",
       "    </tr>\n",
       "    <tr>\n",
       "      <th>3</th>\n",
       "      <td>FP002661</td>\n",
       "      <td>GACCTCCTGTGGTGCTTTCAGTTAGAGCCACTCCCTTTACAAACAA...</td>\n",
       "    </tr>\n",
       "    <tr>\n",
       "      <th>4</th>\n",
       "      <td>FP004964</td>\n",
       "      <td>AATATCTAGGCTTTTAAAATAAGGTGAAAATAAAAGGCAAATTGTC...</td>\n",
       "    </tr>\n",
       "    <tr>\n",
       "      <th>...</th>\n",
       "      <td>...</td>\n",
       "      <td>...</td>\n",
       "    </tr>\n",
       "    <tr>\n",
       "      <th>26528</th>\n",
       "      <td>FP020671</td>\n",
       "      <td>TTAGCCTCTAGGCCTCAGTAGTCCCAGGGAAGTAATAATCGCTATT...</td>\n",
       "    </tr>\n",
       "    <tr>\n",
       "      <th>26529</th>\n",
       "      <td>FP017673</td>\n",
       "      <td>AATTAAACGGTAGTTAAGAGCAAAGGTGAAAATGAGAAAAAAAAGG...</td>\n",
       "    </tr>\n",
       "    <tr>\n",
       "      <th>26530</th>\n",
       "      <td>FP004916</td>\n",
       "      <td>GGAGAGGCTCCCCAAGTTGGCCGGGTGTGGGGAGAGGGGACATAGC...</td>\n",
       "    </tr>\n",
       "    <tr>\n",
       "      <th>26531</th>\n",
       "      <td>FP009666</td>\n",
       "      <td>CGCACAGAGCATTCCGTCACCCCAGGCCCACGCTCTCCAGCCCACC...</td>\n",
       "    </tr>\n",
       "    <tr>\n",
       "      <th>26532</th>\n",
       "      <td>FP019591</td>\n",
       "      <td>ACACTGTCTGCCTGGATGAGGGGTGAGGCTGAGGTGCCCCCTTGCC...</td>\n",
       "    </tr>\n",
       "  </tbody>\n",
       "</table>\n",
       "<p>26533 rows × 2 columns</p>\n",
       "</div>"
      ],
      "text/plain": [
       "           Name                                           Sequence\n",
       "0      FP020532  AGCCACGTGAGTCGCTGGGCTATGGGTGGTGGTGGGGGTGAGGGAG...\n",
       "1      FP020301  TACTTCCGGTTTCCACGGAGCTCCGCCCCTTAGGGGGGTTCTCGCT...\n",
       "2      FP008839  GGAGCCTGGTAGGGAGGACAAATCTCTCGAAATCTCAGTTGGCGCT...\n",
       "3      FP002661  GACCTCCTGTGGTGCTTTCAGTTAGAGCCACTCCCTTTACAAACAA...\n",
       "4      FP004964  AATATCTAGGCTTTTAAAATAAGGTGAAAATAAAAGGCAAATTGTC...\n",
       "...         ...                                                ...\n",
       "26528  FP020671  TTAGCCTCTAGGCCTCAGTAGTCCCAGGGAAGTAATAATCGCTATT...\n",
       "26529  FP017673  AATTAAACGGTAGTTAAGAGCAAAGGTGAAAATGAGAAAAAAAAGG...\n",
       "26530  FP004916  GGAGAGGCTCCCCAAGTTGGCCGGGTGTGGGGAGAGGGGACATAGC...\n",
       "26531  FP009666  CGCACAGAGCATTCCGTCACCCCAGGCCCACGCTCTCCAGCCCACC...\n",
       "26532  FP019591  ACACTGTCTGCCTGGATGAGGGGTGAGGCTGAGGTGCCCCCTTGCC...\n",
       "\n",
       "[26533 rows x 2 columns]"
      ]
     },
     "execution_count": 6,
     "metadata": {},
     "output_type": "execute_result"
    }
   ],
   "source": [
    "records = SeqIO.parse(\"mouse_non_tata.fasta\", \"fasta\")\n",
    "SeqIO.write(records, \"mouse_non_tata.tab\", \"tab\")\n",
    "mouse_df = pd.read_csv('mouse_non_tata.tab', sep='\\t', header=None)\n",
    "header = ['Name', 'Sequence']\n",
    "mouse_df.columns = header[:len(mouse_df.columns)]\n",
    "mouse_df"
   ]
  },
  {
   "cell_type": "markdown",
   "id": "61f74073",
   "metadata": {
    "id": "Q9Hq_kMzD8fT",
    "papermill": {
     "duration": 0.035687,
     "end_time": "2021-07-26T01:16:55.522935",
     "exception": false,
     "start_time": "2021-07-26T01:16:55.487248",
     "status": "completed"
    },
    "tags": []
   },
   "source": [
    "# Create Negative Datasets"
   ]
  },
  {
   "cell_type": "code",
   "execution_count": 7,
   "id": "80291c37",
   "metadata": {
    "execution": {
     "iopub.execute_input": "2021-07-26T01:16:55.606605Z",
     "iopub.status.busy": "2021-07-26T01:16:55.605902Z",
     "iopub.status.idle": "2021-07-26T01:16:55.608589Z",
     "shell.execute_reply": "2021-07-26T01:16:55.608176Z",
     "shell.execute_reply.started": "2021-07-26T01:07:37.141413Z"
    },
    "id": "Vb8wSX0VD8fU",
    "papermill": {
     "duration": 0.048365,
     "end_time": "2021-07-26T01:16:55.608695",
     "exception": false,
     "start_time": "2021-07-26T01:16:55.560330",
     "status": "completed"
    },
    "tags": []
   },
   "outputs": [],
   "source": [
    "def CreateNegativeDataSet(df):\n",
    "  negative_sequences = [] #init return variable\n",
    "  sequence = df['Sequence'].tolist() #get sequences\n",
    "\n",
    "  for current_sequence in sequence: #iterate through rows\n",
    "    split = textwrap.wrap(current_sequence, 15) # split into 20 subsequences of length 15\n",
    "    split_dict = {}\n",
    "    \n",
    "    for x,y in enumerate(split): # turn to dict\n",
    "      split_dict[x] = y\n",
    "\n",
    "    # get 12 random sequences\n",
    "    ran_keys = []\n",
    "    split_keys = list(split_dict.keys())\n",
    "    for x in range(0,12):\n",
    "      ran_keys.append(random.choice(split_keys))\n",
    "\n",
    "    # substitute the random 12 sequences\n",
    "    sub_ran_keys = []\n",
    "    for x in ran_keys:\n",
    "      sub_ran_keys.append(split[x])\n",
    "    random.shuffle(sub_ran_keys)\n",
    "\n",
    "    # combine the substituted and combined sequences\n",
    "    i = 0\n",
    "    for x in ran_keys:\n",
    "      split_dict[x] = sub_ran_keys[i]\n",
    "      i = i + 1\n",
    "      \n",
    "    neg_seq = ''.join(list(split_dict.values())) # convert back to a single string \n",
    "    negative_sequences.append(neg_seq) #append to return list\n",
    "\n",
    "  return negative_sequences"
   ]
  },
  {
   "cell_type": "markdown",
   "id": "0f988a9c",
   "metadata": {
    "id": "h6BO_mQgD8fU",
    "papermill": {
     "duration": 0.039305,
     "end_time": "2021-07-26T01:16:55.683565",
     "exception": false,
     "start_time": "2021-07-26T01:16:55.644260",
     "status": "completed"
    },
    "tags": []
   },
   "source": [
    "## Negative Dataset for Human"
   ]
  },
  {
   "cell_type": "code",
   "execution_count": 8,
   "id": "72fae569",
   "metadata": {
    "execution": {
     "iopub.execute_input": "2021-07-26T01:16:55.780334Z",
     "iopub.status.busy": "2021-07-26T01:16:55.770023Z",
     "iopub.status.idle": "2021-07-26T01:17:01.093693Z",
     "shell.execute_reply": "2021-07-26T01:17:01.093181Z",
     "shell.execute_reply.started": "2021-07-26T01:07:37.154237Z"
    },
    "id": "vqTJ7Ho1D8fV",
    "outputId": "a356018e-2279-436c-9076-f0a21510351c",
    "papermill": {
     "duration": 5.372625,
     "end_time": "2021-07-26T01:17:01.093827",
     "exception": false,
     "start_time": "2021-07-26T01:16:55.721202",
     "status": "completed"
    },
    "tags": []
   },
   "outputs": [
    {
     "data": {
      "text/html": [
       "<div>\n",
       "<style scoped>\n",
       "    .dataframe tbody tr th:only-of-type {\n",
       "        vertical-align: middle;\n",
       "    }\n",
       "\n",
       "    .dataframe tbody tr th {\n",
       "        vertical-align: top;\n",
       "    }\n",
       "\n",
       "    .dataframe thead th {\n",
       "        text-align: right;\n",
       "    }\n",
       "</style>\n",
       "<table border=\"1\" class=\"dataframe\">\n",
       "  <thead>\n",
       "    <tr style=\"text-align: right;\">\n",
       "      <th></th>\n",
       "      <th>Sequence</th>\n",
       "    </tr>\n",
       "  </thead>\n",
       "  <tbody>\n",
       "    <tr>\n",
       "      <th>0</th>\n",
       "      <td>AGCCACGTGAGTCGCCAGCTACTCAAAAGCGGTGGGGGTGAGGGAG...</td>\n",
       "    </tr>\n",
       "    <tr>\n",
       "      <th>1</th>\n",
       "      <td>TAGGGGGGTTCTCGCCGGGCGGGTGACGTCCGGAGCTCCGCCCCTT...</td>\n",
       "    </tr>\n",
       "    <tr>\n",
       "      <th>2</th>\n",
       "      <td>GGGCCGTGCGGCCGGGGACAAATCTCTCGAGGGCCGTGCGGCCGGT...</td>\n",
       "    </tr>\n",
       "    <tr>\n",
       "      <th>3</th>\n",
       "      <td>GACCTCCTGTGGTGCTTTCAGTTAGAGCCAGGGAGACACAGTGCTC...</td>\n",
       "    </tr>\n",
       "    <tr>\n",
       "      <th>4</th>\n",
       "      <td>CGAAGGGCATCTAACAAAATAAGGTGAAAATCAAGTTTTTATTCAC...</td>\n",
       "    </tr>\n",
       "    <tr>\n",
       "      <th>...</th>\n",
       "      <td>...</td>\n",
       "    </tr>\n",
       "    <tr>\n",
       "      <th>26528</th>\n",
       "      <td>TTAGCCTCTAGGCCTCGGTCAAGGTCCAGAAGTAATAATCGCTATA...</td>\n",
       "    </tr>\n",
       "    <tr>\n",
       "      <th>26529</th>\n",
       "      <td>AATTAAACGGTAGTTAAGAGCAAAGGTGAAGATCCAAGGTGCGCGA...</td>\n",
       "    </tr>\n",
       "    <tr>\n",
       "      <th>26530</th>\n",
       "      <td>GGAGAGGCTCCCCAAGTTGGCCGGGTGTGGCAGGACCTCCTGATGC...</td>\n",
       "    </tr>\n",
       "    <tr>\n",
       "      <th>26531</th>\n",
       "      <td>GCCGCGAGTGGAAGAGTCACCCCAGGCCCACGCTCTCCAGCCCACC...</td>\n",
       "    </tr>\n",
       "    <tr>\n",
       "      <th>26532</th>\n",
       "      <td>ACACTGTCTGCCTGGTCACATATATCGTCCCTCCGCACTAGCTGTC...</td>\n",
       "    </tr>\n",
       "  </tbody>\n",
       "</table>\n",
       "<p>26533 rows × 1 columns</p>\n",
       "</div>"
      ],
      "text/plain": [
       "                                                Sequence\n",
       "0      AGCCACGTGAGTCGCCAGCTACTCAAAAGCGGTGGGGGTGAGGGAG...\n",
       "1      TAGGGGGGTTCTCGCCGGGCGGGTGACGTCCGGAGCTCCGCCCCTT...\n",
       "2      GGGCCGTGCGGCCGGGGACAAATCTCTCGAGGGCCGTGCGGCCGGT...\n",
       "3      GACCTCCTGTGGTGCTTTCAGTTAGAGCCAGGGAGACACAGTGCTC...\n",
       "4      CGAAGGGCATCTAACAAAATAAGGTGAAAATCAAGTTTTTATTCAC...\n",
       "...                                                  ...\n",
       "26528  TTAGCCTCTAGGCCTCGGTCAAGGTCCAGAAGTAATAATCGCTATA...\n",
       "26529  AATTAAACGGTAGTTAAGAGCAAAGGTGAAGATCCAAGGTGCGCGA...\n",
       "26530  GGAGAGGCTCCCCAAGTTGGCCGGGTGTGGCAGGACCTCCTGATGC...\n",
       "26531  GCCGCGAGTGGAAGAGTCACCCCAGGCCCACGCTCTCCAGCCCACC...\n",
       "26532  ACACTGTCTGCCTGGTCACATATATCGTCCCTCCGCACTAGCTGTC...\n",
       "\n",
       "[26533 rows x 1 columns]"
      ]
     },
     "execution_count": 8,
     "metadata": {},
     "output_type": "execute_result"
    }
   ],
   "source": [
    "neg_sequences = CreateNegativeDataSet(human_df)\n",
    "negative_human_df = pd.DataFrame(neg_sequences)\n",
    "header = ['Sequence']\n",
    "negative_human_df.columns = header[:len(negative_human_df.columns)]\n",
    "negative_human_df"
   ]
  },
  {
   "cell_type": "markdown",
   "id": "55be3c69",
   "metadata": {
    "id": "2t7QmZ6CD8fV",
    "papermill": {
     "duration": 0.036363,
     "end_time": "2021-07-26T01:17:01.170379",
     "exception": false,
     "start_time": "2021-07-26T01:17:01.134016",
     "status": "completed"
    },
    "tags": []
   },
   "source": [
    "## Negative Dataset for Mouse"
   ]
  },
  {
   "cell_type": "code",
   "execution_count": 9,
   "id": "b91a2c70",
   "metadata": {
    "execution": {
     "iopub.execute_input": "2021-07-26T01:17:01.291369Z",
     "iopub.status.busy": "2021-07-26T01:17:01.281030Z",
     "iopub.status.idle": "2021-07-26T01:17:06.394306Z",
     "shell.execute_reply": "2021-07-26T01:17:06.393677Z",
     "shell.execute_reply.started": "2021-07-26T01:07:42.144902Z"
    },
    "id": "_ZsGKFf9D8fW",
    "outputId": "0465c25e-c751-474d-8fbf-1066f7351a72",
    "papermill": {
     "duration": 5.185819,
     "end_time": "2021-07-26T01:17:06.394523",
     "exception": false,
     "start_time": "2021-07-26T01:17:01.208704",
     "status": "completed"
    },
    "tags": []
   },
   "outputs": [
    {
     "data": {
      "text/html": [
       "<div>\n",
       "<style scoped>\n",
       "    .dataframe tbody tr th:only-of-type {\n",
       "        vertical-align: middle;\n",
       "    }\n",
       "\n",
       "    .dataframe tbody tr th {\n",
       "        vertical-align: top;\n",
       "    }\n",
       "\n",
       "    .dataframe thead th {\n",
       "        text-align: right;\n",
       "    }\n",
       "</style>\n",
       "<table border=\"1\" class=\"dataframe\">\n",
       "  <thead>\n",
       "    <tr style=\"text-align: right;\">\n",
       "      <th></th>\n",
       "      <th>Sequence</th>\n",
       "    </tr>\n",
       "  </thead>\n",
       "  <tbody>\n",
       "    <tr>\n",
       "      <th>0</th>\n",
       "      <td>AGCCACGTGAGTCGCTGGGCTATGGGTGGTGGTGGGGGTGAGGGAG...</td>\n",
       "    </tr>\n",
       "    <tr>\n",
       "      <th>1</th>\n",
       "      <td>AGTGCTGCTTGTCAGGCTCGGGATACAGAATAGGGGGGTTCTCGCA...</td>\n",
       "    </tr>\n",
       "    <tr>\n",
       "      <th>2</th>\n",
       "      <td>GGAGCCTGGTAGGGAGGACAAATCTCTCGAAATCTCAGTTGGCGCT...</td>\n",
       "    </tr>\n",
       "    <tr>\n",
       "      <th>3</th>\n",
       "      <td>GACCTCCTGTGGTGCGATTGATGCTAACAACTCCCTTTACAAACAA...</td>\n",
       "    </tr>\n",
       "    <tr>\n",
       "      <th>4</th>\n",
       "      <td>AATATCTAGGCTTTTAAAATAAGGTGAAAATCAAGTTTTTATTCAC...</td>\n",
       "    </tr>\n",
       "    <tr>\n",
       "      <th>...</th>\n",
       "      <td>...</td>\n",
       "    </tr>\n",
       "    <tr>\n",
       "      <th>26528</th>\n",
       "      <td>TTAGCCTCTAGGCCTCAGTAGTCCCAGGGAGAGCTGAGTAGTTGGC...</td>\n",
       "    </tr>\n",
       "    <tr>\n",
       "      <th>26529</th>\n",
       "      <td>AATTAAACGGTAGTTCGCATGCGCACTGGTAATGAGAAAAAAAAGC...</td>\n",
       "    </tr>\n",
       "    <tr>\n",
       "      <th>26530</th>\n",
       "      <td>TGAATTTCAGACCTGCAGGACCTCCTGATGGGAGAGGGGACATAGC...</td>\n",
       "    </tr>\n",
       "    <tr>\n",
       "      <th>26531</th>\n",
       "      <td>CGCACAGAGCATTCCAAGGTCCCCACTTGAGTCACCCCAGGCCCAA...</td>\n",
       "    </tr>\n",
       "    <tr>\n",
       "      <th>26532</th>\n",
       "      <td>ACACTGTCTGCCTGGATGAGGGGTGAGGCTGAGGTGCCCCCTTGCC...</td>\n",
       "    </tr>\n",
       "  </tbody>\n",
       "</table>\n",
       "<p>26533 rows × 1 columns</p>\n",
       "</div>"
      ],
      "text/plain": [
       "                                                Sequence\n",
       "0      AGCCACGTGAGTCGCTGGGCTATGGGTGGTGGTGGGGGTGAGGGAG...\n",
       "1      AGTGCTGCTTGTCAGGCTCGGGATACAGAATAGGGGGGTTCTCGCA...\n",
       "2      GGAGCCTGGTAGGGAGGACAAATCTCTCGAAATCTCAGTTGGCGCT...\n",
       "3      GACCTCCTGTGGTGCGATTGATGCTAACAACTCCCTTTACAAACAA...\n",
       "4      AATATCTAGGCTTTTAAAATAAGGTGAAAATCAAGTTTTTATTCAC...\n",
       "...                                                  ...\n",
       "26528  TTAGCCTCTAGGCCTCAGTAGTCCCAGGGAGAGCTGAGTAGTTGGC...\n",
       "26529  AATTAAACGGTAGTTCGCATGCGCACTGGTAATGAGAAAAAAAAGC...\n",
       "26530  TGAATTTCAGACCTGCAGGACCTCCTGATGGGAGAGGGGACATAGC...\n",
       "26531  CGCACAGAGCATTCCAAGGTCCCCACTTGAGTCACCCCAGGCCCAA...\n",
       "26532  ACACTGTCTGCCTGGATGAGGGGTGAGGCTGAGGTGCCCCCTTGCC...\n",
       "\n",
       "[26533 rows x 1 columns]"
      ]
     },
     "execution_count": 9,
     "metadata": {},
     "output_type": "execute_result"
    }
   ],
   "source": [
    "neg_sequences = CreateNegativeDataSet(mouse_df)\n",
    "negative_mouse_df = pd.DataFrame(neg_sequences)\n",
    "header = ['Sequence']\n",
    "negative_mouse_df.columns = header[:len(negative_mouse_df.columns)]\n",
    "negative_mouse_df"
   ]
  },
  {
   "cell_type": "markdown",
   "id": "14365e98",
   "metadata": {
    "id": "YeHjm4v6D8fW",
    "papermill": {
     "duration": 0.03812,
     "end_time": "2021-07-26T01:17:06.473165",
     "exception": false,
     "start_time": "2021-07-26T01:17:06.435045",
     "status": "completed"
    },
    "tags": []
   },
   "source": [
    "# Encode Datasets (One Hot)\n",
    "from https://www.kaggle.com/thomasnelson/working-with-dna-sequence-data-for-mlb"
   ]
  },
  {
   "cell_type": "code",
   "execution_count": 10,
   "id": "e9c384de",
   "metadata": {
    "execution": {
     "iopub.execute_input": "2021-07-26T01:17:06.557180Z",
     "iopub.status.busy": "2021-07-26T01:17:06.556466Z",
     "iopub.status.idle": "2021-07-26T01:17:06.559104Z",
     "shell.execute_reply": "2021-07-26T01:17:06.558716Z",
     "shell.execute_reply.started": "2021-07-26T01:07:47.546521Z"
    },
    "id": "xzIgATktD8fX",
    "papermill": {
     "duration": 0.045236,
     "end_time": "2021-07-26T01:17:06.559207",
     "exception": false,
     "start_time": "2021-07-26T01:17:06.513971",
     "status": "completed"
    },
    "tags": []
   },
   "outputs": [],
   "source": [
    "def string_to_array(my_string):\n",
    "  ''' Function to convert a DNA sequence string to a numpy array converts to \n",
    "  lower case, changes any non 'acgt' characters to 'n' '''\n",
    "\n",
    "  my_string = my_string.lower()\n",
    "  my_string = re.sub('[^acgt]', 'z', my_string)\n",
    "  my_array = np.array(list(my_string))\n",
    "  return my_array\n",
    "\n",
    "def one_hot_encoder(my_array):\n",
    "  ''' function to one-hot encode a DNA sequence string non 'acgt' bases (n) \n",
    "  are 0000 returns a L x 4 numpy array'''\n",
    "\n",
    "  # create a label encoder with 'acgtn' alphabet\n",
    "  label_encoder = LabelEncoder()\n",
    "  label_encoder.fit(np.array(['a','c','g','t','z']))\n",
    "  integer_encoded = label_encoder.transform(my_array)\n",
    "\n",
    "  onehot_encoder = OneHotEncoder(sparse=False, dtype=float, categories=[range(5)])\n",
    "  integer_encoded = integer_encoded.reshape(len(integer_encoded), 1)\n",
    "  onehot_encoded = onehot_encoder.fit_transform(integer_encoded)\n",
    "  onehot_encoded = np.delete(onehot_encoded, -1, 1)\n",
    "  return onehot_encoded"
   ]
  },
  {
   "cell_type": "markdown",
   "id": "85d1e608",
   "metadata": {
    "id": "WG90qcCUqALr",
    "papermill": {
     "duration": 0.037404,
     "end_time": "2021-07-26T01:17:06.636388",
     "exception": false,
     "start_time": "2021-07-26T01:17:06.598984",
     "status": "completed"
    },
    "tags": []
   },
   "source": [
    "## Human Encoding"
   ]
  },
  {
   "cell_type": "code",
   "execution_count": 11,
   "id": "1ef829cc",
   "metadata": {
    "execution": {
     "iopub.execute_input": "2021-07-26T01:17:06.721752Z",
     "iopub.status.busy": "2021-07-26T01:17:06.720965Z",
     "iopub.status.idle": "2021-07-26T01:17:25.414487Z",
     "shell.execute_reply": "2021-07-26T01:17:25.415528Z",
     "shell.execute_reply.started": "2021-07-26T01:07:47.556145Z"
    },
    "id": "fdBRwmYaD8fX",
    "outputId": "de942908-667f-4c63-83c3-56f5e4bb8665",
    "papermill": {
     "duration": 18.7428,
     "end_time": "2021-07-26T01:17:25.415766",
     "exception": false,
     "start_time": "2021-07-26T01:17:06.672966",
     "status": "completed"
    },
    "tags": []
   },
   "outputs": [
    {
     "name": "stdout",
     "output_type": "stream",
     "text": [
      "HUMAN\n",
      "len: 26533\n",
      "<class 'numpy.ndarray'>\n"
     ]
    },
    {
     "data": {
      "text/plain": [
       "array([[1., 0., 0., 0.],\n",
       "       [0., 0., 1., 0.],\n",
       "       [0., 1., 0., 0.],\n",
       "       ...,\n",
       "       [0., 0., 0., 1.],\n",
       "       [1., 0., 0., 0.],\n",
       "       [0., 1., 0., 0.]])"
      ]
     },
     "execution_count": 11,
     "metadata": {},
     "output_type": "execute_result"
    }
   ],
   "source": [
    "human_vector = list()\n",
    "sequence = human_df['Sequence'].tolist()\n",
    "\n",
    "for current_sequence in sequence:\n",
    "  human_vector.append(one_hot_encoder(string_to_array(current_sequence)))\n",
    "human_vector = np.array(human_vector) # convert to numpy array\n",
    "\n",
    "print(\"HUMAN\\nlen:\", len(human_vector))\n",
    "print(type(human_vector[0]))\n",
    "human_vector[0]"
   ]
  },
  {
   "cell_type": "markdown",
   "id": "871189c1",
   "metadata": {
    "id": "6UGug-3VqGn1",
    "papermill": {
     "duration": 0.06156,
     "end_time": "2021-07-26T01:17:25.536910",
     "exception": false,
     "start_time": "2021-07-26T01:17:25.475350",
     "status": "completed"
    },
    "tags": []
   },
   "source": [
    "## Negative Human Encoding"
   ]
  },
  {
   "cell_type": "code",
   "execution_count": 12,
   "id": "bb9622e8",
   "metadata": {
    "execution": {
     "iopub.execute_input": "2021-07-26T01:17:25.676431Z",
     "iopub.status.busy": "2021-07-26T01:17:25.675667Z",
     "iopub.status.idle": "2021-07-26T01:17:44.080992Z",
     "shell.execute_reply": "2021-07-26T01:17:44.080579Z",
     "shell.execute_reply.started": "2021-07-26T01:08:06.484018Z"
    },
    "id": "-czlH7LLmudj",
    "outputId": "34c28d45-d160-4530-aabb-7efe57e7f326",
    "papermill": {
     "duration": 18.487781,
     "end_time": "2021-07-26T01:17:44.081131",
     "exception": false,
     "start_time": "2021-07-26T01:17:25.593350",
     "status": "completed"
    },
    "tags": []
   },
   "outputs": [
    {
     "name": "stdout",
     "output_type": "stream",
     "text": [
      "\n",
      "NEGATIVE HUMAN\n",
      "len: 26533\n",
      "<class 'numpy.ndarray'>\n"
     ]
    },
    {
     "data": {
      "text/plain": [
       "array([[1., 0., 0., 0.],\n",
       "       [0., 0., 1., 0.],\n",
       "       [0., 1., 0., 0.],\n",
       "       ...,\n",
       "       [0., 0., 0., 1.],\n",
       "       [1., 0., 0., 0.],\n",
       "       [0., 1., 0., 0.]])"
      ]
     },
     "execution_count": 12,
     "metadata": {},
     "output_type": "execute_result"
    }
   ],
   "source": [
    "negative_human_vector = list()\n",
    "sequence = negative_human_df['Sequence'].tolist()\n",
    "\n",
    "for current_sequence in sequence:\n",
    "  negative_human_vector.append(one_hot_encoder(string_to_array(current_sequence)))\n",
    "negative_human_vector = np.array(negative_human_vector)\n",
    "\n",
    "print(\"\\nNEGATIVE HUMAN\\nlen:\", len(negative_human_vector))\n",
    "print(type(negative_human_vector[0]))\n",
    "negative_human_vector[0]"
   ]
  },
  {
   "cell_type": "markdown",
   "id": "4e667994",
   "metadata": {
    "id": "ZDoO6QTEqJ_Q",
    "papermill": {
     "duration": 0.03686,
     "end_time": "2021-07-26T01:17:44.155419",
     "exception": false,
     "start_time": "2021-07-26T01:17:44.118559",
     "status": "completed"
    },
    "tags": []
   },
   "source": [
    "## Mouse Encoding"
   ]
  },
  {
   "cell_type": "code",
   "execution_count": 13,
   "id": "888491cf",
   "metadata": {
    "execution": {
     "iopub.execute_input": "2021-07-26T01:17:44.234820Z",
     "iopub.status.busy": "2021-07-26T01:17:44.234024Z",
     "iopub.status.idle": "2021-07-26T01:18:03.894441Z",
     "shell.execute_reply": "2021-07-26T01:18:03.893860Z",
     "shell.execute_reply.started": "2021-07-26T01:08:25.444512Z"
    },
    "id": "PIygaIPaD8fX",
    "outputId": "1abe3de5-2bdd-4190-8be2-5c04314c1edf",
    "papermill": {
     "duration": 19.702972,
     "end_time": "2021-07-26T01:18:03.894590",
     "exception": false,
     "start_time": "2021-07-26T01:17:44.191618",
     "status": "completed"
    },
    "tags": []
   },
   "outputs": [
    {
     "name": "stdout",
     "output_type": "stream",
     "text": [
      "MOUSE\n",
      "len: 26533\n",
      "<class 'numpy.ndarray'>\n"
     ]
    },
    {
     "data": {
      "text/plain": [
       "array([[1., 0., 0., 0.],\n",
       "       [0., 0., 1., 0.],\n",
       "       [0., 1., 0., 0.],\n",
       "       ...,\n",
       "       [0., 0., 0., 1.],\n",
       "       [1., 0., 0., 0.],\n",
       "       [0., 1., 0., 0.]])"
      ]
     },
     "execution_count": 13,
     "metadata": {},
     "output_type": "execute_result"
    }
   ],
   "source": [
    "mouse_vector = list()\n",
    "sequence = mouse_df['Sequence'].tolist()\n",
    "\n",
    "for current_sequence in sequence:\n",
    "  mouse_vector.append(one_hot_encoder(string_to_array(current_sequence)))\n",
    "mouse_vector = np.array(mouse_vector)\n",
    "\n",
    "print(\"MOUSE\\nlen:\", len(mouse_vector))\n",
    "print(type(mouse_vector[0]))\n",
    "mouse_vector[0]"
   ]
  },
  {
   "cell_type": "markdown",
   "id": "090492d3",
   "metadata": {
    "id": "0hjnRfgWqLu6",
    "papermill": {
     "duration": 0.038376,
     "end_time": "2021-07-26T01:18:03.973190",
     "exception": false,
     "start_time": "2021-07-26T01:18:03.934814",
     "status": "completed"
    },
    "tags": []
   },
   "source": [
    "## Negative Mouse Encoding"
   ]
  },
  {
   "cell_type": "code",
   "execution_count": 14,
   "id": "240408cf",
   "metadata": {
    "execution": {
     "iopub.execute_input": "2021-07-26T01:18:04.062107Z",
     "iopub.status.busy": "2021-07-26T01:18:04.061317Z",
     "iopub.status.idle": "2021-07-26T01:18:22.835318Z",
     "shell.execute_reply": "2021-07-26T01:18:22.835806Z",
     "shell.execute_reply.started": "2021-07-26T01:08:45.156282Z"
    },
    "id": "IDlQqt43nqmn",
    "outputId": "9aa881e2-fcb5-4575-d319-3183568b2616",
    "papermill": {
     "duration": 18.819651,
     "end_time": "2021-07-26T01:18:22.836030",
     "exception": false,
     "start_time": "2021-07-26T01:18:04.016379",
     "status": "completed"
    },
    "tags": []
   },
   "outputs": [
    {
     "name": "stdout",
     "output_type": "stream",
     "text": [
      "\n",
      "NEGATIVE MOUSE\n",
      "len: 26533\n",
      "<class 'numpy.ndarray'>\n"
     ]
    },
    {
     "data": {
      "text/plain": [
       "array([[1., 0., 0., 0.],\n",
       "       [0., 0., 1., 0.],\n",
       "       [0., 1., 0., 0.],\n",
       "       ...,\n",
       "       [1., 0., 0., 0.],\n",
       "       [0., 1., 0., 0.],\n",
       "       [0., 1., 0., 0.]])"
      ]
     },
     "execution_count": 14,
     "metadata": {},
     "output_type": "execute_result"
    }
   ],
   "source": [
    "negative_mouse_vector = list()\n",
    "sequence = negative_mouse_df['Sequence'].tolist()\n",
    "\n",
    "for current_sequence in sequence:\n",
    "  negative_mouse_vector.append(one_hot_encoder(string_to_array(current_sequence)))\n",
    "negative_mouse_vector = np.array(negative_mouse_vector)\n",
    "\n",
    "print(\"\\nNEGATIVE MOUSE\\nlen:\", len(negative_mouse_vector))\n",
    "print(type(negative_mouse_vector[0]))\n",
    "negative_mouse_vector[0]"
   ]
  },
  {
   "cell_type": "markdown",
   "id": "fd25b22f",
   "metadata": {
    "id": "uqTGO87ZD8fY",
    "papermill": {
     "duration": 0.038529,
     "end_time": "2021-07-26T01:18:22.915782",
     "exception": false,
     "start_time": "2021-07-26T01:18:22.877253",
     "status": "completed"
    },
    "tags": []
   },
   "source": [
    "# Combine Human and Mouse Datasets"
   ]
  },
  {
   "cell_type": "markdown",
   "id": "83c6b331",
   "metadata": {
    "id": "q6ih_1P7_B5j",
    "papermill": {
     "duration": 0.038822,
     "end_time": "2021-07-26T01:18:22.998304",
     "exception": false,
     "start_time": "2021-07-26T01:18:22.959482",
     "status": "completed"
    },
    "tags": []
   },
   "source": [
    "## Test Set"
   ]
  },
  {
   "cell_type": "code",
   "execution_count": 15,
   "id": "a9750590",
   "metadata": {
    "execution": {
     "iopub.execute_input": "2021-07-26T01:18:23.085515Z",
     "iopub.status.busy": "2021-07-26T01:18:23.084803Z",
     "iopub.status.idle": "2021-07-26T01:18:23.087201Z",
     "shell.execute_reply": "2021-07-26T01:18:23.087634Z",
     "shell.execute_reply.started": "2021-07-26T01:09:04.080382Z"
    },
    "id": "jYCd90wc_VI9",
    "papermill": {
     "duration": 0.047532,
     "end_time": "2021-07-26T01:18:23.087772",
     "exception": false,
     "start_time": "2021-07-26T01:18:23.040240",
     "status": "completed"
    },
    "tags": []
   },
   "outputs": [],
   "source": [
    "# keep 20% of dataset for testing 10% human and 5% mouse\n",
    "length = len(human_vector)\n",
    "test_split = len(human_vector)-int(length*0.10)"
   ]
  },
  {
   "cell_type": "code",
   "execution_count": 16,
   "id": "e0f83fd4",
   "metadata": {
    "execution": {
     "iopub.execute_input": "2021-07-26T01:18:23.177864Z",
     "iopub.status.busy": "2021-07-26T01:18:23.176825Z",
     "iopub.status.idle": "2021-07-26T01:18:23.196805Z",
     "shell.execute_reply": "2021-07-26T01:18:23.196189Z",
     "shell.execute_reply.started": "2021-07-26T01:09:04.087743Z"
    },
    "id": "4v3zdKCP_BVk",
    "outputId": "97a6ec07-b69d-46ce-eeaf-a817b3974d25",
    "papermill": {
     "duration": 0.070383,
     "end_time": "2021-07-26T01:18:23.196958",
     "exception": false,
     "start_time": "2021-07-26T01:18:23.126575",
     "status": "completed"
    },
    "tags": []
   },
   "outputs": [
    {
     "name": "stdout",
     "output_type": "stream",
     "text": [
      "Test human input shape: (2653, 300, 4) Test human target shape: (2653,)\n"
     ]
    }
   ],
   "source": [
    "X_test_human = human_vector[test_split:, :, :]\n",
    "y_test_human = np.array([1]*len(X_test_human))\n",
    "\n",
    "X_test_negative_human = negative_human_vector[test_split:, :, :]\n",
    "y_test_negative_human = np.array([0]*len(X_test_negative_human))\n",
    "\n",
    "X_test_human_comb = np.concatenate((X_test_human, X_test_negative_human), axis=0)\n",
    "y_test_human_comb = np.concatenate((y_test_human, y_test_negative_human), axis=0)\n",
    "\n",
    "print(\"Test human input shape:\", X_test_human.shape, \"Test human target shape:\", y_test_human.shape)"
   ]
  },
  {
   "cell_type": "code",
   "execution_count": 17,
   "id": "71509d7a",
   "metadata": {
    "execution": {
     "iopub.execute_input": "2021-07-26T01:18:23.289862Z",
     "iopub.status.busy": "2021-07-26T01:18:23.288795Z",
     "iopub.status.idle": "2021-07-26T01:18:23.308017Z",
     "shell.execute_reply": "2021-07-26T01:18:23.307419Z",
     "shell.execute_reply.started": "2021-07-26T01:09:04.112598Z"
    },
    "id": "xMRc4edh_Jdo",
    "outputId": "eb787b33-c2fb-4daf-b4c1-77188973267e",
    "papermill": {
     "duration": 0.07051,
     "end_time": "2021-07-26T01:18:23.308158",
     "exception": false,
     "start_time": "2021-07-26T01:18:23.237648",
     "status": "completed"
    },
    "tags": []
   },
   "outputs": [
    {
     "name": "stdout",
     "output_type": "stream",
     "text": [
      "Test mouse input shape: (2653, 300, 4) Test mouse target shape: (2653,)\n"
     ]
    }
   ],
   "source": [
    "X_test_mouse = mouse_vector[test_split:, :, :]\n",
    "y_test_mouse = np.array([1]*len(X_test_mouse))\n",
    "\n",
    "X_test_negative_mouse = negative_mouse_vector[test_split:, :, :]\n",
    "y_test_negative_mouse = np.array([0]*len(X_test_negative_mouse))\n",
    "\n",
    "X_test_mouse_comb = np.concatenate((X_test_mouse, X_test_negative_mouse), axis=0)\n",
    "y_test_mouse_comb = np.concatenate((y_test_mouse, y_test_negative_mouse), axis=0)\n",
    "\n",
    "print(\"Test mouse input shape:\", X_test_mouse.shape, \"Test mouse target shape:\", y_test_mouse.shape)"
   ]
  },
  {
   "cell_type": "markdown",
   "id": "2971a7b5",
   "metadata": {
    "id": "eF0sCmN__i1S",
    "papermill": {
     "duration": 0.044374,
     "end_time": "2021-07-26T01:18:23.393061",
     "exception": false,
     "start_time": "2021-07-26T01:18:23.348687",
     "status": "completed"
    },
    "tags": []
   },
   "source": [
    "## Training Set"
   ]
  },
  {
   "cell_type": "code",
   "execution_count": 18,
   "id": "9ff20128",
   "metadata": {
    "execution": {
     "iopub.execute_input": "2021-07-26T01:18:23.483943Z",
     "iopub.status.busy": "2021-07-26T01:18:23.482709Z",
     "iopub.status.idle": "2021-07-26T01:18:24.107274Z",
     "shell.execute_reply": "2021-07-26T01:18:24.107904Z",
     "shell.execute_reply.started": "2021-07-26T01:09:04.133718Z"
    },
    "id": "oMvwaz5gD8fY",
    "outputId": "8f5df957-85b7-4624-b70b-17d636694bd5",
    "papermill": {
     "duration": 0.67326,
     "end_time": "2021-07-26T01:18:24.108103",
     "exception": false,
     "start_time": "2021-07-26T01:18:23.434843",
     "status": "completed"
    },
    "tags": []
   },
   "outputs": [
    {
     "name": "stdout",
     "output_type": "stream",
     "text": [
      "Shape of combined human and mouse inputs: (95520, 300, 4) \n",
      "Shape of combined human and mouse targets: (95520, 1)\n"
     ]
    }
   ],
   "source": [
    "# split off the test set samples\n",
    "X_train_human = human_vector[:test_split, :, :] \n",
    "X_train_negative_human = negative_human_vector[:test_split, :, :]\n",
    "\n",
    "X_train_mouse = mouse_vector[:test_split, :, :]\n",
    "X_train_negative_mouse = negative_mouse_vector[:test_split, :, :]\n",
    "\n",
    "# combine all inputs and targets in to respective np arrays\n",
    "X_train = np.concatenate((X_train_human, X_train_negative_human, X_train_mouse, X_train_negative_mouse), axis=0)\n",
    "y_train = np.concatenate(([1]*len(X_train_human), [0]*len(X_train_negative_human ), [1]*len(X_train_mouse), [0]*len(X_train_negative_mouse)), axis=0)\n",
    "y_train = y_train.reshape(-1,1)\n",
    "\n",
    "# shuffle \n",
    "X_train, y_train = shuffle(X_train, y_train, random_state=42)\n",
    "\n",
    "print(\"Shape of combined human and mouse inputs:\", X_train.shape, \"\\nShape of combined human and mouse targets:\", y_train.shape)"
   ]
  },
  {
   "cell_type": "markdown",
   "id": "588635f5",
   "metadata": {
    "id": "2W_UgOYDD8fZ",
    "papermill": {
     "duration": 0.039293,
     "end_time": "2021-07-26T01:18:24.193528",
     "exception": false,
     "start_time": "2021-07-26T01:18:24.154235",
     "status": "completed"
    },
    "tags": []
   },
   "source": [
    "# Build and Train"
   ]
  },
  {
   "cell_type": "code",
   "execution_count": 19,
   "id": "81d9fb5a",
   "metadata": {
    "execution": {
     "iopub.execute_input": "2021-07-26T01:18:24.291171Z",
     "iopub.status.busy": "2021-07-26T01:18:24.290457Z",
     "iopub.status.idle": "2021-07-26T01:18:24.293056Z",
     "shell.execute_reply": "2021-07-26T01:18:24.292670Z",
     "shell.execute_reply.started": "2021-07-26T01:13:23.249050Z"
    },
    "id": "GwOQCS_oD8fa",
    "papermill": {
     "duration": 0.056851,
     "end_time": "2021-07-26T01:18:24.293156",
     "exception": false,
     "start_time": "2021-07-26T01:18:24.236305",
     "status": "completed"
    },
    "tags": []
   },
   "outputs": [],
   "source": [
    "def build_model():\n",
    "    # input\n",
    "    input = tf.keras.layers.Input(shape=(300,4))\n",
    "\n",
    "    # conv 1\n",
    "    x = tf.keras.layers.Conv1D(filters=512, kernel_size=28, strides=1, activation='relu', padding='valid', kernel_regularizer=keras.regularizers.l2(1e-3))(input)\n",
    "    x = tf.keras.layers.BatchNormalization()(x)\n",
    "    x = tf.keras.layers.Dropout(rate=0.5)(x)\n",
    "\n",
    "    # conv 2\n",
    "    x = tf.keras.layers.Conv1D(filters=256, kernel_size=12, strides=2, activation='relu', padding='valid', kernel_regularizer=keras.regularizers.l2(1e-3))(x)\n",
    "    x = tf.keras.layers.BatchNormalization()(x)\n",
    "    x = tf.keras.layers.Dropout(rate=0.5)(x)\n",
    "\n",
    "    # conv 3\n",
    "    x = tf.keras.layers.Conv1D(filters=256, kernel_size=7, strides=2, activation='relu', padding='valid', kernel_regularizer=keras.regularizers.l2(1e-3))(x)\n",
    "    x = tf.keras.layers.BatchNormalization()(x)\n",
    "    x = tf.keras.layers.Dropout(rate=0.5)(x)\n",
    "\n",
    "    # bi-lstm\n",
    "    x = tf.keras.layers.Bidirectional(tf.keras.layers.LSTM(128, dropout=0.5, kernel_regularizer=keras.regularizers.l2(1e-3)))(x)\n",
    "    x = tf.keras.layers.Flatten()(x)\n",
    "\n",
    "    # fully conected\n",
    "    x = tf.keras.layers.Dense(128, activation='relu', kernel_regularizer=keras.regularizers.l2(1e-3))(x)\n",
    "    x = tf.keras.layers.Dropout(rate=0.5)(x)\n",
    "    x = tf.keras.layers.Dense(64, activation='relu', kernel_regularizer=keras.regularizers.l2(1e-3))(x)\n",
    "\n",
    "    # output\n",
    "    output = tf.keras.layers.Dense(1, activation='sigmoid')(x)\n",
    "\n",
    "    # model\n",
    "    model = tf.keras.models.Model(inputs=[input], outputs=[output], name='CBLPromoter')\n",
    "    return model"
   ]
  },
  {
   "cell_type": "code",
   "execution_count": 20,
   "id": "24419e35",
   "metadata": {
    "execution": {
     "iopub.execute_input": "2021-07-26T01:18:24.381763Z",
     "iopub.status.busy": "2021-07-26T01:18:24.381087Z",
     "iopub.status.idle": "2021-07-26T01:18:27.147258Z",
     "shell.execute_reply": "2021-07-26T01:18:27.146354Z",
     "shell.execute_reply.started": "2021-07-26T01:13:25.788188Z"
    },
    "id": "FH01zuQwqyd9",
    "outputId": "e65718c6-2135-4d4e-b3de-d02325155382",
    "papermill": {
     "duration": 2.812881,
     "end_time": "2021-07-26T01:18:27.147466",
     "exception": false,
     "start_time": "2021-07-26T01:18:24.334585",
     "status": "completed"
    },
    "tags": []
   },
   "outputs": [
    {
     "name": "stdout",
     "output_type": "stream",
     "text": [
      "Model: \"CBLPromoter\"\n",
      "_________________________________________________________________\n",
      "Layer (type)                 Output Shape              Param #   \n",
      "=================================================================\n",
      "input_1 (InputLayer)         [(None, 300, 4)]          0         \n",
      "_________________________________________________________________\n",
      "conv1d (Conv1D)              (None, 273, 512)          57856     \n",
      "_________________________________________________________________\n",
      "batch_normalization (BatchNo (None, 273, 512)          2048      \n",
      "_________________________________________________________________\n",
      "dropout (Dropout)            (None, 273, 512)          0         \n",
      "_________________________________________________________________\n",
      "conv1d_1 (Conv1D)            (None, 131, 256)          1573120   \n",
      "_________________________________________________________________\n",
      "batch_normalization_1 (Batch (None, 131, 256)          1024      \n",
      "_________________________________________________________________\n",
      "dropout_1 (Dropout)          (None, 131, 256)          0         \n",
      "_________________________________________________________________\n",
      "conv1d_2 (Conv1D)            (None, 63, 256)           459008    \n",
      "_________________________________________________________________\n",
      "batch_normalization_2 (Batch (None, 63, 256)           1024      \n",
      "_________________________________________________________________\n",
      "dropout_2 (Dropout)          (None, 63, 256)           0         \n",
      "_________________________________________________________________\n",
      "bidirectional (Bidirectional (None, 256)               394240    \n",
      "_________________________________________________________________\n",
      "flatten (Flatten)            (None, 256)               0         \n",
      "_________________________________________________________________\n",
      "dense (Dense)                (None, 128)               32896     \n",
      "_________________________________________________________________\n",
      "dropout_3 (Dropout)          (None, 128)               0         \n",
      "_________________________________________________________________\n",
      "dense_1 (Dense)              (None, 64)                8256      \n",
      "_________________________________________________________________\n",
      "dense_2 (Dense)              (None, 1)                 65        \n",
      "=================================================================\n",
      "Total params: 2,529,537\n",
      "Trainable params: 2,527,489\n",
      "Non-trainable params: 2,048\n",
      "_________________________________________________________________\n"
     ]
    }
   ],
   "source": [
    "model = build_model()\n",
    "model.summary()"
   ]
  },
  {
   "cell_type": "code",
   "execution_count": 21,
   "id": "06cae0a8",
   "metadata": {
    "execution": {
     "iopub.execute_input": "2021-07-26T01:18:27.247417Z",
     "iopub.status.busy": "2021-07-26T01:18:27.242617Z",
     "iopub.status.idle": "2021-07-26T03:18:46.084857Z",
     "shell.execute_reply": "2021-07-26T03:18:46.084337Z",
     "shell.execute_reply.started": "2021-07-26T01:13:29.074467Z"
    },
    "id": "Ct0lTqyHfOLn",
    "outputId": "54dd892b-2329-45d9-faf8-47beb4153249",
    "papermill": {
     "duration": 7218.895237,
     "end_time": "2021-07-26T03:18:46.085007",
     "exception": false,
     "start_time": "2021-07-26T01:18:27.189770",
     "status": "completed"
    },
    "tags": []
   },
   "outputs": [
    {
     "name": "stdout",
     "output_type": "stream",
     "text": [
      "Epoch 1/100\n",
      "2687/2687 [==============================] - 82s 27ms/step - loss: 2.0548 - binary_accuracy: 0.5070 - precision: 0.5069 - recall: 0.5336 - val_loss: 1.5319 - val_binary_accuracy: 0.5718 - val_precision: 0.5786 - val_recall: 0.5092\n",
      "Epoch 2/100\n",
      "2687/2687 [==============================] - 71s 26ms/step - loss: 1.4106 - binary_accuracy: 0.5561 - precision: 0.5595 - recall: 0.5450 - val_loss: 1.0944 - val_binary_accuracy: 0.5989 - val_precision: 0.6770 - val_recall: 0.3691\n",
      "Epoch 3/100\n",
      "2687/2687 [==============================] - 71s 26ms/step - loss: 1.0289 - binary_accuracy: 0.6043 - precision: 0.6109 - recall: 0.5748 - val_loss: 0.8746 - val_binary_accuracy: 0.6315 - val_precision: 0.6539 - val_recall: 0.5492\n",
      "Epoch 4/100\n",
      "2687/2687 [==============================] - 71s 26ms/step - loss: 0.8504 - binary_accuracy: 0.6345 - precision: 0.6400 - recall: 0.6108 - val_loss: 0.7789 - val_binary_accuracy: 0.6524 - val_precision: 0.6978 - val_recall: 0.5302\n",
      "Epoch 5/100\n",
      "2687/2687 [==============================] - 71s 26ms/step - loss: 0.7682 - binary_accuracy: 0.6550 - precision: 0.6575 - recall: 0.6485 - val_loss: 0.7267 - val_binary_accuracy: 0.6778 - val_precision: 0.6778 - val_recall: 0.6701\n",
      "Epoch 6/100\n",
      "2687/2687 [==============================] - 71s 26ms/step - loss: 0.7231 - binary_accuracy: 0.6763 - precision: 0.6711 - recall: 0.6883 - val_loss: 0.7044 - val_binary_accuracy: 0.6794 - val_precision: 0.6753 - val_recall: 0.6838\n",
      "Epoch 7/100\n",
      "2687/2687 [==============================] - 71s 26ms/step - loss: 0.7033 - binary_accuracy: 0.6835 - precision: 0.6759 - recall: 0.7062 - val_loss: 0.7215 - val_binary_accuracy: 0.6635 - val_precision: 0.6187 - val_recall: 0.8418\n",
      "Epoch 8/100\n",
      "2687/2687 [==============================] - 71s 26ms/step - loss: 0.6874 - binary_accuracy: 0.6938 - precision: 0.6863 - recall: 0.7184 - val_loss: 0.6835 - val_binary_accuracy: 0.6990 - val_precision: 0.6872 - val_recall: 0.7238\n",
      "Epoch 9/100\n",
      "2687/2687 [==============================] - 71s 27ms/step - loss: 0.6809 - binary_accuracy: 0.7013 - precision: 0.6938 - recall: 0.7251 - val_loss: 0.6904 - val_binary_accuracy: 0.6890 - val_precision: 0.6508 - val_recall: 0.8072\n",
      "Epoch 10/100\n",
      "2687/2687 [==============================] - 71s 27ms/step - loss: 0.6747 - binary_accuracy: 0.7071 - precision: 0.6967 - recall: 0.7309 - val_loss: 0.6879 - val_binary_accuracy: 0.7001 - val_precision: 0.6951 - val_recall: 0.7063\n",
      "Epoch 11/100\n",
      "2687/2687 [==============================] - 71s 26ms/step - loss: 0.6702 - binary_accuracy: 0.7158 - precision: 0.7053 - recall: 0.7528 - val_loss: 0.6948 - val_binary_accuracy: 0.6950 - val_precision: 0.6819 - val_recall: 0.7240\n",
      "Epoch 12/100\n",
      "2687/2687 [==============================] - 71s 27ms/step - loss: 0.6665 - binary_accuracy: 0.7221 - precision: 0.7127 - recall: 0.7450 - val_loss: 0.6934 - val_binary_accuracy: 0.7082 - val_precision: 0.6779 - val_recall: 0.7868\n",
      "Epoch 13/100\n",
      "2687/2687 [==============================] - 72s 27ms/step - loss: 0.6684 - binary_accuracy: 0.7268 - precision: 0.7138 - recall: 0.7596 - val_loss: 0.7103 - val_binary_accuracy: 0.6913 - val_precision: 0.6516 - val_recall: 0.8142\n",
      "Epoch 14/100\n",
      "2687/2687 [==============================] - 71s 26ms/step - loss: 0.6646 - binary_accuracy: 0.7333 - precision: 0.7184 - recall: 0.7678 - val_loss: 0.7084 - val_binary_accuracy: 0.7016 - val_precision: 0.6652 - val_recall: 0.8047\n",
      "Epoch 15/100\n",
      "2687/2687 [==============================] - 72s 27ms/step - loss: 0.6667 - binary_accuracy: 0.7382 - precision: 0.7224 - recall: 0.7737 - val_loss: 0.7066 - val_binary_accuracy: 0.7110 - val_precision: 0.6896 - val_recall: 0.7609\n",
      "Epoch 16/100\n",
      "2687/2687 [==============================] - 72s 27ms/step - loss: 0.6636 - binary_accuracy: 0.7448 - precision: 0.7313 - recall: 0.7745 - val_loss: 0.7177 - val_binary_accuracy: 0.7082 - val_precision: 0.6664 - val_recall: 0.8268\n",
      "Epoch 17/100\n",
      "2687/2687 [==============================] - 71s 27ms/step - loss: 0.6654 - binary_accuracy: 0.7527 - precision: 0.7357 - recall: 0.7882 - val_loss: 0.7199 - val_binary_accuracy: 0.7170 - val_precision: 0.6644 - val_recall: 0.8700\n",
      "Epoch 18/100\n",
      "2687/2687 [==============================] - 71s 26ms/step - loss: 0.6609 - binary_accuracy: 0.7624 - precision: 0.7453 - recall: 0.8000 - val_loss: 0.7034 - val_binary_accuracy: 0.7319 - val_precision: 0.7421 - val_recall: 0.7057\n",
      "Epoch 19/100\n",
      "2687/2687 [==============================] - 72s 27ms/step - loss: 0.6595 - binary_accuracy: 0.7676 - precision: 0.7500 - recall: 0.8006 - val_loss: 0.7063 - val_binary_accuracy: 0.7334 - val_precision: 0.7413 - val_recall: 0.7118\n",
      "Epoch 20/100\n",
      "2687/2687 [==============================] - 71s 27ms/step - loss: 0.6611 - binary_accuracy: 0.7711 - precision: 0.7513 - recall: 0.8090 - val_loss: 0.7028 - val_binary_accuracy: 0.7392 - val_precision: 0.6950 - val_recall: 0.8471\n",
      "Epoch 21/100\n",
      "2687/2687 [==============================] - 71s 26ms/step - loss: 0.6580 - binary_accuracy: 0.7761 - precision: 0.7542 - recall: 0.8187 - val_loss: 0.7056 - val_binary_accuracy: 0.7458 - val_precision: 0.7256 - val_recall: 0.7855\n",
      "Epoch 22/100\n",
      "2687/2687 [==============================] - 71s 26ms/step - loss: 0.6604 - binary_accuracy: 0.7797 - precision: 0.7616 - recall: 0.8146 - val_loss: 0.7121 - val_binary_accuracy: 0.7421 - val_precision: 0.7031 - val_recall: 0.8327\n",
      "Epoch 23/100\n",
      "2687/2687 [==============================] - 72s 27ms/step - loss: 0.6579 - binary_accuracy: 0.7847 - precision: 0.7662 - recall: 0.8246 - val_loss: 0.7077 - val_binary_accuracy: 0.7492 - val_precision: 0.7204 - val_recall: 0.8094\n",
      "Epoch 24/100\n",
      "2687/2687 [==============================] - 72s 27ms/step - loss: 0.6632 - binary_accuracy: 0.7829 - precision: 0.7651 - recall: 0.8156 - val_loss: 0.7147 - val_binary_accuracy: 0.7471 - val_precision: 0.7564 - val_recall: 0.7242\n",
      "Epoch 25/100\n",
      "2687/2687 [==============================] - 72s 27ms/step - loss: 0.6599 - binary_accuracy: 0.7884 - precision: 0.7694 - recall: 0.8235 - val_loss: 0.7128 - val_binary_accuracy: 0.7539 - val_precision: 0.7242 - val_recall: 0.8153\n",
      "Epoch 26/100\n",
      "2687/2687 [==============================] - 71s 27ms/step - loss: 0.6625 - binary_accuracy: 0.7906 - precision: 0.7699 - recall: 0.8275 - val_loss: 0.7143 - val_binary_accuracy: 0.7572 - val_precision: 0.7395 - val_recall: 0.7896\n",
      "Epoch 27/100\n",
      "2687/2687 [==============================] - 72s 27ms/step - loss: 0.6601 - binary_accuracy: 0.7940 - precision: 0.7749 - recall: 0.8282 - val_loss: 0.7230 - val_binary_accuracy: 0.7523 - val_precision: 0.7206 - val_recall: 0.8193\n",
      "Epoch 28/100\n",
      "2687/2687 [==============================] - 72s 27ms/step - loss: 0.6622 - binary_accuracy: 0.7966 - precision: 0.7748 - recall: 0.8373 - val_loss: 0.7389 - val_binary_accuracy: 0.7431 - val_precision: 0.7623 - val_recall: 0.7019\n",
      "Epoch 29/100\n",
      "2687/2687 [==============================] - 72s 27ms/step - loss: 0.6643 - binary_accuracy: 0.7958 - precision: 0.7782 - recall: 0.8299 - val_loss: 0.7268 - val_binary_accuracy: 0.7569 - val_precision: 0.7071 - val_recall: 0.8721\n",
      "Epoch 30/100\n",
      "2687/2687 [==============================] - 70s 26ms/step - loss: 0.6617 - binary_accuracy: 0.7999 - precision: 0.7782 - recall: 0.8376 - val_loss: 0.7287 - val_binary_accuracy: 0.7611 - val_precision: 0.7357 - val_recall: 0.8104\n",
      "Epoch 31/100\n",
      "2687/2687 [==============================] - 72s 27ms/step - loss: 0.6630 - binary_accuracy: 0.8050 - precision: 0.7855 - recall: 0.8396 - val_loss: 0.7280 - val_binary_accuracy: 0.7630 - val_precision: 0.7467 - val_recall: 0.7917\n",
      "Epoch 32/100\n",
      "2687/2687 [==============================] - 71s 27ms/step - loss: 0.6640 - binary_accuracy: 0.8046 - precision: 0.7845 - recall: 0.8425 - val_loss: 0.7287 - val_binary_accuracy: 0.7572 - val_precision: 0.7409 - val_recall: 0.7866\n",
      "Epoch 33/100\n",
      "2687/2687 [==============================] - 72s 27ms/step - loss: 0.6611 - binary_accuracy: 0.8068 - precision: 0.7882 - recall: 0.8399 - val_loss: 0.7338 - val_binary_accuracy: 0.7699 - val_precision: 0.7329 - val_recall: 0.8450\n",
      "Epoch 34/100\n",
      "2687/2687 [==============================] - 70s 26ms/step - loss: 0.6630 - binary_accuracy: 0.8066 - precision: 0.7877 - recall: 0.8363 - val_loss: 0.7385 - val_binary_accuracy: 0.7508 - val_precision: 0.7606 - val_recall: 0.7276\n",
      "Epoch 35/100\n",
      "2687/2687 [==============================] - 72s 27ms/step - loss: 0.6614 - binary_accuracy: 0.8126 - precision: 0.7954 - recall: 0.8409 - val_loss: 0.7383 - val_binary_accuracy: 0.7597 - val_precision: 0.7563 - val_recall: 0.7622\n",
      "Epoch 36/100\n",
      "2687/2687 [==============================] - 70s 26ms/step - loss: 0.6652 - binary_accuracy: 0.8117 - precision: 0.7962 - recall: 0.8394 - val_loss: 0.7477 - val_binary_accuracy: 0.7676 - val_precision: 0.7338 - val_recall: 0.8355\n",
      "Epoch 37/100\n",
      "2687/2687 [==============================] - 73s 27ms/step - loss: 0.6670 - binary_accuracy: 0.8127 - precision: 0.7951 - recall: 0.8430 - val_loss: 0.7452 - val_binary_accuracy: 0.7670 - val_precision: 0.7550 - val_recall: 0.7862\n",
      "Epoch 38/100\n",
      "2687/2687 [==============================] - 70s 26ms/step - loss: 0.6641 - binary_accuracy: 0.8155 - precision: 0.7983 - recall: 0.8440 - val_loss: 0.7521 - val_binary_accuracy: 0.7618 - val_precision: 0.7140 - val_recall: 0.8688\n",
      "Epoch 39/100\n",
      "2687/2687 [==============================] - 73s 27ms/step - loss: 0.6667 - binary_accuracy: 0.8153 - precision: 0.7967 - recall: 0.8471 - val_loss: 0.7488 - val_binary_accuracy: 0.7618 - val_precision: 0.7534 - val_recall: 0.7742\n",
      "Epoch 40/100\n",
      "2687/2687 [==============================] - 70s 26ms/step - loss: 0.6671 - binary_accuracy: 0.8166 - precision: 0.8014 - recall: 0.8440 - val_loss: 0.7409 - val_binary_accuracy: 0.7719 - val_precision: 0.7366 - val_recall: 0.8420\n",
      "Epoch 41/100\n",
      "2687/2687 [==============================] - 73s 27ms/step - loss: 0.6647 - binary_accuracy: 0.8169 - precision: 0.7993 - recall: 0.8457 - val_loss: 0.7613 - val_binary_accuracy: 0.7512 - val_precision: 0.7705 - val_recall: 0.7110\n",
      "Epoch 42/100\n",
      "2687/2687 [==============================] - 70s 26ms/step - loss: 0.6620 - binary_accuracy: 0.8219 - precision: 0.8041 - recall: 0.8514 - val_loss: 0.7425 - val_binary_accuracy: 0.7702 - val_precision: 0.7491 - val_recall: 0.8083\n",
      "Epoch 43/100\n",
      "2687/2687 [==============================] - 73s 27ms/step - loss: 0.6636 - binary_accuracy: 0.8228 - precision: 0.8053 - recall: 0.8519 - val_loss: 0.7464 - val_binary_accuracy: 0.7726 - val_precision: 0.7480 - val_recall: 0.8180\n",
      "Epoch 44/100\n",
      "2687/2687 [==============================] - 70s 26ms/step - loss: 0.6622 - binary_accuracy: 0.8220 - precision: 0.8038 - recall: 0.8510 - val_loss: 0.7567 - val_binary_accuracy: 0.7644 - val_precision: 0.7599 - val_recall: 0.7689\n",
      "Epoch 45/100\n",
      "2687/2687 [==============================] - 73s 27ms/step - loss: 0.6623 - binary_accuracy: 0.8269 - precision: 0.8104 - recall: 0.8553 - val_loss: 0.7482 - val_binary_accuracy: 0.7760 - val_precision: 0.7360 - val_recall: 0.8563\n",
      "Epoch 46/100\n",
      "2687/2687 [==============================] - 70s 26ms/step - loss: 0.6634 - binary_accuracy: 0.8248 - precision: 0.8056 - recall: 0.8535 - val_loss: 0.7620 - val_binary_accuracy: 0.7688 - val_precision: 0.7406 - val_recall: 0.8233\n",
      "Epoch 47/100\n",
      "2687/2687 [==============================] - 73s 27ms/step - loss: 0.6614 - binary_accuracy: 0.8284 - precision: 0.8109 - recall: 0.8572 - val_loss: 0.7585 - val_binary_accuracy: 0.7718 - val_precision: 0.7341 - val_recall: 0.8479\n",
      "Epoch 48/100\n",
      "2687/2687 [==============================] - 70s 26ms/step - loss: 0.6644 - binary_accuracy: 0.8258 - precision: 0.8091 - recall: 0.8517 - val_loss: 0.7640 - val_binary_accuracy: 0.7725 - val_precision: 0.7422 - val_recall: 0.8308\n",
      "Epoch 49/100\n",
      "2687/2687 [==============================] - 73s 27ms/step - loss: 0.6640 - binary_accuracy: 0.8295 - precision: 0.8108 - recall: 0.8576 - val_loss: 0.7611 - val_binary_accuracy: 0.7727 - val_precision: 0.7502 - val_recall: 0.8136\n",
      "Epoch 50/100\n",
      "2687/2687 [==============================] - 70s 26ms/step - loss: 0.6649 - binary_accuracy: 0.8272 - precision: 0.8106 - recall: 0.8551 - val_loss: 0.7661 - val_binary_accuracy: 0.7647 - val_precision: 0.7844 - val_recall: 0.7259\n",
      "Epoch 51/100\n",
      "2687/2687 [==============================] - 73s 27ms/step - loss: 0.6628 - binary_accuracy: 0.8296 - precision: 0.8131 - recall: 0.8561 - val_loss: 0.7676 - val_binary_accuracy: 0.7633 - val_precision: 0.7739 - val_recall: 0.7398\n",
      "Epoch 52/100\n",
      "2687/2687 [==============================] - 70s 26ms/step - loss: 0.6599 - binary_accuracy: 0.8329 - precision: 0.8160 - recall: 0.8608 - val_loss: 0.7676 - val_binary_accuracy: 0.7687 - val_precision: 0.7731 - val_recall: 0.7567\n",
      "Epoch 53/100\n",
      "2687/2687 [==============================] - 73s 27ms/step - loss: 0.6599 - binary_accuracy: 0.8320 - precision: 0.8177 - recall: 0.8543 - val_loss: 0.7741 - val_binary_accuracy: 0.7611 - val_precision: 0.7747 - val_recall: 0.7323\n",
      "Epoch 54/100\n",
      "2687/2687 [==============================] - 71s 26ms/step - loss: 0.6621 - binary_accuracy: 0.8334 - precision: 0.8181 - recall: 0.8570 - val_loss: 0.7649 - val_binary_accuracy: 0.7768 - val_precision: 0.7527 - val_recall: 0.8205\n",
      "Epoch 55/100\n",
      "2687/2687 [==============================] - 73s 27ms/step - loss: 0.6622 - binary_accuracy: 0.8332 - precision: 0.8173 - recall: 0.8564 - val_loss: 0.7623 - val_binary_accuracy: 0.7825 - val_precision: 0.7530 - val_recall: 0.8367\n",
      "Epoch 56/100\n",
      "2687/2687 [==============================] - 71s 27ms/step - loss: 0.6600 - binary_accuracy: 0.8374 - precision: 0.8236 - recall: 0.8587 - val_loss: 0.7616 - val_binary_accuracy: 0.7816 - val_precision: 0.7550 - val_recall: 0.8298\n",
      "Epoch 57/100\n",
      "2687/2687 [==============================] - 70s 26ms/step - loss: 0.6625 - binary_accuracy: 0.8338 - precision: 0.8173 - recall: 0.8600 - val_loss: 0.7636 - val_binary_accuracy: 0.7750 - val_precision: 0.7632 - val_recall: 0.7936\n",
      "Epoch 58/100\n",
      "2687/2687 [==============================] - 70s 26ms/step - loss: 0.6611 - binary_accuracy: 0.8315 - precision: 0.8147 - recall: 0.8574 - val_loss: 0.7622 - val_binary_accuracy: 0.7823 - val_precision: 0.7540 - val_recall: 0.8342\n",
      "Epoch 59/100\n",
      "2687/2687 [==============================] - 74s 27ms/step - loss: 0.6600 - binary_accuracy: 0.8371 - precision: 0.8237 - recall: 0.8593 - val_loss: 0.7709 - val_binary_accuracy: 0.7650 - val_precision: 0.7654 - val_recall: 0.7601\n",
      "Epoch 60/100\n",
      "2687/2687 [==============================] - 71s 26ms/step - loss: 0.6629 - binary_accuracy: 0.8363 - precision: 0.8219 - recall: 0.8594 - val_loss: 0.7710 - val_binary_accuracy: 0.7735 - val_precision: 0.7635 - val_recall: 0.7883\n",
      "Epoch 61/100\n",
      "2687/2687 [==============================] - 71s 26ms/step - loss: 0.6607 - binary_accuracy: 0.8367 - precision: 0.8249 - recall: 0.8549 - val_loss: 0.7638 - val_binary_accuracy: 0.7790 - val_precision: 0.7676 - val_recall: 0.7965\n",
      "Epoch 62/100\n",
      "2687/2687 [==============================] - 70s 26ms/step - loss: 0.6586 - binary_accuracy: 0.8389 - precision: 0.8263 - recall: 0.8556 - val_loss: 0.7716 - val_binary_accuracy: 0.7866 - val_precision: 0.7376 - val_recall: 0.8858\n",
      "Epoch 63/100\n",
      "2687/2687 [==============================] - 74s 28ms/step - loss: 0.6620 - binary_accuracy: 0.8385 - precision: 0.8256 - recall: 0.8615 - val_loss: 0.7756 - val_binary_accuracy: 0.7682 - val_precision: 0.7721 - val_recall: 0.7571\n",
      "Epoch 64/100\n",
      "2687/2687 [==============================] - 70s 26ms/step - loss: 0.6583 - binary_accuracy: 0.8404 - precision: 0.8277 - recall: 0.8604 - val_loss: 0.7680 - val_binary_accuracy: 0.7822 - val_precision: 0.7362 - val_recall: 0.8755\n",
      "Epoch 65/100\n",
      "2687/2687 [==============================] - 71s 26ms/step - loss: 0.6589 - binary_accuracy: 0.8389 - precision: 0.8269 - recall: 0.8612 - val_loss: 0.7736 - val_binary_accuracy: 0.7725 - val_precision: 0.7702 - val_recall: 0.7729\n",
      "Epoch 66/100\n",
      "2687/2687 [==============================] - 70s 26ms/step - loss: 0.6565 - binary_accuracy: 0.8416 - precision: 0.8285 - recall: 0.8605 - val_loss: 0.7700 - val_binary_accuracy: 0.7742 - val_precision: 0.7658 - val_recall: 0.7860\n",
      "Epoch 67/100\n",
      "2687/2687 [==============================] - 74s 28ms/step - loss: 0.6553 - binary_accuracy: 0.8414 - precision: 0.8268 - recall: 0.8639 - val_loss: 0.7678 - val_binary_accuracy: 0.7882 - val_precision: 0.7447 - val_recall: 0.8732\n",
      "Epoch 68/100\n",
      "2687/2687 [==============================] - 71s 26ms/step - loss: 0.6572 - binary_accuracy: 0.8415 - precision: 0.8266 - recall: 0.8649 - val_loss: 0.7756 - val_binary_accuracy: 0.7847 - val_precision: 0.7421 - val_recall: 0.8685\n",
      "Epoch 69/100\n",
      "2687/2687 [==============================] - 72s 27ms/step - loss: 0.6572 - binary_accuracy: 0.8415 - precision: 0.8279 - recall: 0.8633 - val_loss: 0.7695 - val_binary_accuracy: 0.7825 - val_precision: 0.7677 - val_recall: 0.8062\n",
      "Epoch 70/100\n",
      "2687/2687 [==============================] - 73s 27ms/step - loss: 0.6602 - binary_accuracy: 0.8415 - precision: 0.8286 - recall: 0.8612 - val_loss: 0.7741 - val_binary_accuracy: 0.7800 - val_precision: 0.7580 - val_recall: 0.8188\n",
      "Epoch 71/100\n",
      "2687/2687 [==============================] - 76s 28ms/step - loss: 0.6575 - binary_accuracy: 0.8441 - precision: 0.8298 - recall: 0.8639 - val_loss: 0.7961 - val_binary_accuracy: 0.7586 - val_precision: 0.8072 - val_recall: 0.6756\n",
      "Epoch 72/100\n",
      "2687/2687 [==============================] - 73s 27ms/step - loss: 0.6602 - binary_accuracy: 0.8438 - precision: 0.8300 - recall: 0.8636 - val_loss: 0.7716 - val_binary_accuracy: 0.7829 - val_precision: 0.7709 - val_recall: 0.8011\n",
      "Epoch 73/100\n",
      "2687/2687 [==============================] - 74s 27ms/step - loss: 0.6548 - binary_accuracy: 0.8452 - precision: 0.8316 - recall: 0.8654 - val_loss: 0.7689 - val_binary_accuracy: 0.7864 - val_precision: 0.7562 - val_recall: 0.8416\n",
      "Epoch 74/100\n",
      "2687/2687 [==============================] - 76s 28ms/step - loss: 0.6544 - binary_accuracy: 0.8475 - precision: 0.8350 - recall: 0.8676 - val_loss: 0.7729 - val_binary_accuracy: 0.7807 - val_precision: 0.7760 - val_recall: 0.7853\n",
      "Epoch 75/100\n",
      "2687/2687 [==============================] - 76s 28ms/step - loss: 0.6494 - binary_accuracy: 0.8489 - precision: 0.8365 - recall: 0.8681 - val_loss: 0.7799 - val_binary_accuracy: 0.7823 - val_precision: 0.7386 - val_recall: 0.8698\n",
      "Epoch 76/100\n",
      "2687/2687 [==============================] - 73s 27ms/step - loss: 0.6573 - binary_accuracy: 0.8467 - precision: 0.8349 - recall: 0.8659 - val_loss: 0.7678 - val_binary_accuracy: 0.7860 - val_precision: 0.7541 - val_recall: 0.8450\n",
      "Epoch 77/100\n",
      "2687/2687 [==============================] - 73s 27ms/step - loss: 0.6531 - binary_accuracy: 0.8484 - precision: 0.8350 - recall: 0.8661 - val_loss: 0.7708 - val_binary_accuracy: 0.7811 - val_precision: 0.7745 - val_recall: 0.7893\n",
      "Epoch 78/100\n",
      "2687/2687 [==============================] - 77s 29ms/step - loss: 0.6529 - binary_accuracy: 0.8484 - precision: 0.8377 - recall: 0.8664 - val_loss: 0.7691 - val_binary_accuracy: 0.7840 - val_precision: 0.7694 - val_recall: 0.8075\n",
      "Epoch 79/100\n",
      "2687/2687 [==============================] - 74s 28ms/step - loss: 0.6529 - binary_accuracy: 0.8497 - precision: 0.8376 - recall: 0.8683 - val_loss: 0.7764 - val_binary_accuracy: 0.7810 - val_precision: 0.7754 - val_recall: 0.7874\n",
      "Epoch 80/100\n",
      "2687/2687 [==============================] - 73s 27ms/step - loss: 0.6539 - binary_accuracy: 0.8478 - precision: 0.8335 - recall: 0.8688 - val_loss: 0.7750 - val_binary_accuracy: 0.7842 - val_precision: 0.7526 - val_recall: 0.8428\n",
      "Epoch 81/100\n",
      "2687/2687 [==============================] - 73s 27ms/step - loss: 0.6548 - binary_accuracy: 0.8477 - precision: 0.8345 - recall: 0.8684 - val_loss: 0.7678 - val_binary_accuracy: 0.7881 - val_precision: 0.7717 - val_recall: 0.8146\n",
      "Epoch 82/100\n",
      "2687/2687 [==============================] - 78s 29ms/step - loss: 0.6536 - binary_accuracy: 0.8480 - precision: 0.8346 - recall: 0.8686 - val_loss: 0.7714 - val_binary_accuracy: 0.7822 - val_precision: 0.7794 - val_recall: 0.7837\n",
      "Epoch 83/100\n",
      "2687/2687 [==============================] - 73s 27ms/step - loss: 0.6556 - binary_accuracy: 0.8476 - precision: 0.8340 - recall: 0.8695 - val_loss: 0.7706 - val_binary_accuracy: 0.7928 - val_precision: 0.7502 - val_recall: 0.8742\n",
      "Epoch 84/100\n",
      "2687/2687 [==============================] - 73s 27ms/step - loss: 0.6563 - binary_accuracy: 0.8494 - precision: 0.8388 - recall: 0.8672 - val_loss: 0.7735 - val_binary_accuracy: 0.7848 - val_precision: 0.7618 - val_recall: 0.8247\n",
      "Epoch 85/100\n",
      "2687/2687 [==============================] - 73s 27ms/step - loss: 0.6517 - binary_accuracy: 0.8506 - precision: 0.8383 - recall: 0.8696 - val_loss: 0.7793 - val_binary_accuracy: 0.7834 - val_precision: 0.7326 - val_recall: 0.8884\n",
      "Epoch 86/100\n",
      "2687/2687 [==============================] - 78s 29ms/step - loss: 0.6490 - binary_accuracy: 0.8522 - precision: 0.8401 - recall: 0.8703 - val_loss: 0.7631 - val_binary_accuracy: 0.7970 - val_precision: 0.7652 - val_recall: 0.8534\n",
      "Epoch 87/100\n",
      "2687/2687 [==============================] - 73s 27ms/step - loss: 0.6493 - binary_accuracy: 0.8513 - precision: 0.8406 - recall: 0.8681 - val_loss: 0.7736 - val_binary_accuracy: 0.7866 - val_precision: 0.7955 - val_recall: 0.7681\n",
      "Epoch 88/100\n",
      "2687/2687 [==============================] - 73s 27ms/step - loss: 0.6477 - binary_accuracy: 0.8528 - precision: 0.8407 - recall: 0.8725 - val_loss: 0.7654 - val_binary_accuracy: 0.7951 - val_precision: 0.7572 - val_recall: 0.8652\n",
      "Epoch 89/100\n",
      "2687/2687 [==============================] - 73s 27ms/step - loss: 0.6524 - binary_accuracy: 0.8498 - precision: 0.8397 - recall: 0.8666 - val_loss: 0.7858 - val_binary_accuracy: 0.7809 - val_precision: 0.7206 - val_recall: 0.9132\n",
      "Epoch 90/100\n",
      "2687/2687 [==============================] - 78s 29ms/step - loss: 0.6494 - binary_accuracy: 0.8516 - precision: 0.8399 - recall: 0.8688 - val_loss: 0.7739 - val_binary_accuracy: 0.7905 - val_precision: 0.7620 - val_recall: 0.8412\n",
      "Epoch 91/100\n",
      "2687/2687 [==============================] - 71s 26ms/step - loss: 0.6508 - binary_accuracy: 0.8517 - precision: 0.8400 - recall: 0.8694 - val_loss: 0.7805 - val_binary_accuracy: 0.7932 - val_precision: 0.7395 - val_recall: 0.9014\n",
      "Epoch 92/100\n",
      "2687/2687 [==============================] - 70s 26ms/step - loss: 0.6519 - binary_accuracy: 0.8520 - precision: 0.8396 - recall: 0.8722 - val_loss: 0.7673 - val_binary_accuracy: 0.7947 - val_precision: 0.7659 - val_recall: 0.8452\n",
      "Epoch 93/100\n",
      "2687/2687 [==============================] - 70s 26ms/step - loss: 0.6502 - binary_accuracy: 0.8524 - precision: 0.8420 - recall: 0.8686 - val_loss: 0.8066 - val_binary_accuracy: 0.7837 - val_precision: 0.7218 - val_recall: 0.9191\n",
      "Epoch 94/100\n",
      "2687/2687 [==============================] - 77s 28ms/step - loss: 0.6481 - binary_accuracy: 0.8539 - precision: 0.8446 - recall: 0.8699 - val_loss: 0.7764 - val_binary_accuracy: 0.7969 - val_precision: 0.7511 - val_recall: 0.8843\n",
      "Epoch 95/100\n",
      "2687/2687 [==============================] - 70s 26ms/step - loss: 0.6529 - binary_accuracy: 0.8512 - precision: 0.8387 - recall: 0.8695 - val_loss: 0.7637 - val_binary_accuracy: 0.7993 - val_precision: 0.7686 - val_recall: 0.8530\n",
      "Epoch 96/100\n",
      "2687/2687 [==============================] - 71s 26ms/step - loss: 0.6499 - binary_accuracy: 0.8533 - precision: 0.8430 - recall: 0.8689 - val_loss: 0.7809 - val_binary_accuracy: 0.7863 - val_precision: 0.7593 - val_recall: 0.8346\n",
      "Epoch 97/100\n",
      "2687/2687 [==============================] - 70s 26ms/step - loss: 0.6440 - binary_accuracy: 0.8556 - precision: 0.8437 - recall: 0.8731 - val_loss: 0.7847 - val_binary_accuracy: 0.7896 - val_precision: 0.7380 - val_recall: 0.8938\n",
      "Epoch 98/100\n",
      "2687/2687 [==============================] - 76s 28ms/step - loss: 0.6468 - binary_accuracy: 0.8553 - precision: 0.8464 - recall: 0.8691 - val_loss: 0.7733 - val_binary_accuracy: 0.7960 - val_precision: 0.7535 - val_recall: 0.8759\n",
      "Epoch 99/100\n",
      "2687/2687 [==============================] - 71s 26ms/step - loss: 0.6462 - binary_accuracy: 0.8537 - precision: 0.8444 - recall: 0.8679 - val_loss: 0.8184 - val_binary_accuracy: 0.7745 - val_precision: 0.7084 - val_recall: 0.9284\n",
      "Epoch 100/100\n",
      "2687/2687 [==============================] - 70s 26ms/step - loss: 0.6494 - binary_accuracy: 0.8530 - precision: 0.8391 - recall: 0.8713 - val_loss: 0.7840 - val_binary_accuracy: 0.7852 - val_precision: 0.7761 - val_recall: 0.7980\n"
     ]
    }
   ],
   "source": [
    "init_lr = 1e-4\n",
    "model.compile(\n",
    "    loss=tf.keras.losses.BinaryCrossentropy(), \n",
    "    optimizer=tf.keras.optimizers.Adam(learning_rate=init_lr), \n",
    "    metrics=[tf.keras.metrics.BinaryAccuracy(), tf.keras.metrics.Precision(), tf.keras.metrics.Recall(),],\n",
    ")\n",
    "\n",
    "history = model.fit(X_train, y_train, epochs=100, validation_split=0.1)"
   ]
  },
  {
   "cell_type": "markdown",
   "id": "3edc49e2",
   "metadata": {
    "id": "Llf6NHEFqvLd",
    "papermill": {
     "duration": 32.34464,
     "end_time": "2021-07-26T03:19:49.229253",
     "exception": false,
     "start_time": "2021-07-26T03:19:16.884613",
     "status": "completed"
    },
    "tags": []
   },
   "source": [
    "# Visualize Training"
   ]
  },
  {
   "cell_type": "code",
   "execution_count": 22,
   "id": "4b49f346",
   "metadata": {
    "execution": {
     "iopub.execute_input": "2021-07-26T03:20:52.283706Z",
     "iopub.status.busy": "2021-07-26T03:20:52.282618Z",
     "iopub.status.idle": "2021-07-26T03:20:53.081494Z",
     "shell.execute_reply": "2021-07-26T03:20:53.081866Z"
    },
    "id": "MCC68mBfRhvr",
    "papermill": {
     "duration": 32.833372,
     "end_time": "2021-07-26T03:20:53.082016",
     "exception": false,
     "start_time": "2021-07-26T03:20:20.248644",
     "status": "completed"
    },
    "tags": []
   },
   "outputs": [
    {
     "data": {
      "image/png": "[encoded data removed]",
      "text/plain": [
       "<Figure size 432x288 with 1 Axes>"
      ]
     },
     "metadata": {
      "needs_background": "light"
     },
     "output_type": "display_data"
    },
    {
     "data": {
      "image/png": "[encoded data removed]",
      "text/plain": [
       "<Figure size 432x288 with 1 Axes>"
      ]
     },
     "metadata": {
      "needs_background": "light"
     },
     "output_type": "display_data"
    },
    {
     "data": {
      "image/png": "[encoded data removed]",
      "text/plain": [
       "<Figure size 432x288 with 1 Axes>"
      ]
     },
     "metadata": {
      "needs_background": "light"
     },
     "output_type": "display_data"
    },
    {
     "data": {
      "image/png": "[encoded data removed]",
      "text/plain": [
       "<Figure size 432x288 with 1 Axes>"
      ]
     },
     "metadata": {
      "needs_background": "light"
     },
     "output_type": "display_data"
    }
   ],
   "source": [
    "loss = history.history['loss']\n",
    "val_loss = history.history['val_loss']\n",
    "\n",
    "plt.figure()\n",
    "plt.plot(history.epoch, loss, 'b', label='Training loss')\n",
    "plt.plot(history.epoch, val_loss, 'c', label='Validation loss')\n",
    "plt.title('Training and Validation Loss')\n",
    "plt.xlabel('Epoch')\n",
    "plt.ylabel('Loss Value')\n",
    "plt.ylim([0, 1])\n",
    "plt.legend()\n",
    "plt.show()\n",
    "\n",
    "##########################################################\n",
    "\n",
    "metrics = history.history['binary_accuracy']\n",
    "val_metrics = history.history['val_binary_accuracy']\n",
    "\n",
    "plt.figure()\n",
    "plt.plot(history.epoch, metrics, 'r', label='Training accuracy')\n",
    "plt.plot(history.epoch, val_metrics, 'g', label='Validation accuracy')\n",
    "plt.title('Training and Validation Accuracy')\n",
    "plt.xlabel('Epoch')\n",
    "plt.ylabel('Accuracy Value')\n",
    "plt.ylim([0, 1])\n",
    "plt.legend()\n",
    "plt.show()\n",
    "\n",
    "##########################################################\n",
    "\n",
    "metrics = history.history['precision']\n",
    "val_metrics = history.history['val_precision']\n",
    "\n",
    "plt.figure()\n",
    "plt.plot(history.epoch, metrics, 'r', label='Training precision')\n",
    "plt.plot(history.epoch, val_metrics, 'g', label='Validation precision')\n",
    "plt.title('Training and Validation Precision')\n",
    "plt.xlabel('Epoch')\n",
    "plt.ylabel('Precision Value')\n",
    "plt.ylim([0, 1])\n",
    "plt.legend()\n",
    "plt.show()\n",
    "\n",
    "##########################################################\n",
    "\n",
    "metrics = history.history['recall']\n",
    "val_metrics = history.history['val_recall']\n",
    "\n",
    "plt.figure()\n",
    "plt.plot(history.epoch, metrics, 'r', label='Training recall')\n",
    "plt.plot(history.epoch, val_metrics, 'g', label='Validation recall')\n",
    "plt.title('Training and Validation Recall')\n",
    "plt.xlabel('Epoch')\n",
    "plt.ylabel('Recall Value')\n",
    "plt.ylim([0, 1])\n",
    "plt.legend()\n",
    "plt.show()"
   ]
  },
  {
   "cell_type": "markdown",
   "id": "3138274e",
   "metadata": {
    "id": "mw6RE1sAq0hs",
    "papermill": {
     "duration": 32.04818,
     "end_time": "2021-07-26T03:21:56.248103",
     "exception": false,
     "start_time": "2021-07-26T03:21:24.199923",
     "status": "completed"
    },
    "tags": []
   },
   "source": [
    "# Evaluate Model"
   ]
  },
  {
   "cell_type": "markdown",
   "id": "55a3e3f7",
   "metadata": {
    "id": "J8pXpdloGcwC",
    "papermill": {
     "duration": 31.543406,
     "end_time": "2021-07-26T03:22:59.539357",
     "exception": false,
     "start_time": "2021-07-26T03:22:27.995951",
     "status": "completed"
    },
    "tags": []
   },
   "source": [
    "## Human testing"
   ]
  },
  {
   "cell_type": "code",
   "execution_count": 23,
   "id": "e8842116",
   "metadata": {
    "execution": {
     "iopub.execute_input": "2021-07-26T03:24:02.762605Z",
     "iopub.status.busy": "2021-07-26T03:24:02.761454Z",
     "iopub.status.idle": "2021-07-26T03:24:05.437774Z",
     "shell.execute_reply": "2021-07-26T03:24:05.437180Z"
    },
    "id": "jqlRZvMGD8fa",
    "outputId": "0835fa74-ff8f-475d-e056-a8969005132e",
    "papermill": {
     "duration": 34.143212,
     "end_time": "2021-07-26T03:24:05.437950",
     "exception": false,
     "start_time": "2021-07-26T03:23:31.294738",
     "status": "completed"
    },
    "tags": []
   },
   "outputs": [
    {
     "name": "stdout",
     "output_type": "stream",
     "text": [
      "166/166 - 3s - loss: 0.9520 - binary_accuracy: 0.7116 - precision: 0.7690 - recall: 0.6050\n",
      "\n",
      "**** HUMAN ****\n",
      "Accuracy: 71.16%\n",
      "Precision: 76.90%\n",
      "Recall: 60.50%\n"
     ]
    }
   ],
   "source": [
    "_, acc, prec, recall = model.evaluate(X_test_human_comb, y_test_human_comb, verbose=2)\n",
    "print(\"\\n**** HUMAN ****\\nAccuracy: {:.2f}%\\nPrecision: {:.2f}%\\nRecall: {:.2f}%\".format(acc*100, prec*100, recall*100))"
   ]
  },
  {
   "cell_type": "markdown",
   "id": "4d04ae10",
   "metadata": {
    "id": "Obx2lQPHGe-h",
    "papermill": {
     "duration": 31.452398,
     "end_time": "2021-07-26T03:25:09.778739",
     "exception": false,
     "start_time": "2021-07-26T03:24:38.326341",
     "status": "completed"
    },
    "tags": []
   },
   "source": [
    "## Mouse testing"
   ]
  },
  {
   "cell_type": "code",
   "execution_count": 24,
   "id": "60e7f341",
   "metadata": {
    "execution": {
     "iopub.execute_input": "2021-07-26T03:26:12.861782Z",
     "iopub.status.busy": "2021-07-26T03:26:12.860871Z",
     "iopub.status.idle": "2021-07-26T03:26:14.483519Z",
     "shell.execute_reply": "2021-07-26T03:26:14.483048Z"
    },
    "id": "6cG7Xa65GelD",
    "outputId": "3bdea5ac-4f06-4fae-d54d-d3dd71ce3ff2",
    "papermill": {
     "duration": 33.356018,
     "end_time": "2021-07-26T03:26:14.483643",
     "exception": false,
     "start_time": "2021-07-26T03:25:41.127625",
     "status": "completed"
    },
    "tags": []
   },
   "outputs": [
    {
     "name": "stdout",
     "output_type": "stream",
     "text": [
      "166/166 - 2s - loss: 0.9366 - binary_accuracy: 0.7239 - precision: 0.7938 - recall: 0.6050\n",
      "\n",
      "**** Mouse ****\n",
      "Accuracy: 72.39%\n",
      "Precision: 79.38%\n",
      "Recall: 60.50%\n"
     ]
    }
   ],
   "source": [
    "_, acc, prec, recall = model.evaluate(X_test_mouse_comb, y_test_mouse_comb, verbose=2)\n",
    "print(\"\\n**** Mouse ****\\nAccuracy: {:.2f}%\\nPrecision: {:.2f}%\\nRecall: {:.2f}%\".format(acc*100, prec*100, recall*100))"
   ]
  },
  {
   "cell_type": "markdown",
   "id": "9b1f2543",
   "metadata": {
    "id": "ulob0kmKGppW",
    "papermill": {
     "duration": 31.711298,
     "end_time": "2021-07-26T03:27:17.610283",
     "exception": false,
     "start_time": "2021-07-26T03:26:45.898985",
     "status": "completed"
    },
    "tags": []
   },
   "source": [
    "# Reset Model"
   ]
  },
  {
   "cell_type": "code",
   "execution_count": 25,
   "id": "4a68e46e",
   "metadata": {
    "execution": {
     "iopub.execute_input": "2021-07-26T03:28:20.542124Z",
     "iopub.status.busy": "2021-07-26T03:28:20.541461Z",
     "iopub.status.idle": "2021-07-26T03:28:20.544671Z",
     "shell.execute_reply": "2021-07-26T03:28:20.545058Z"
    },
    "id": "AklbhESaTZBp",
    "papermill": {
     "duration": 32.24871,
     "end_time": "2021-07-26T03:28:20.545188",
     "exception": false,
     "start_time": "2021-07-26T03:27:48.296478",
     "status": "completed"
    },
    "tags": []
   },
   "outputs": [
    {
     "data": {
      "text/plain": [
       "'Uncomment to reset tensorflow graphs'"
      ]
     },
     "execution_count": 25,
     "metadata": {},
     "output_type": "execute_result"
    }
   ],
   "source": [
    "'''Uncomment to reset tensorflow graphs'''\n",
    "# tf.keras.backend.clear_session()"
   ]
  }
 ],
 "metadata": {
  "kernelspec": {
   "display_name": "Python 3",
   "language": "python",
   "name": "python3"
  },
  "language_info": {
   "codemirror_mode": {
    "name": "ipython",
    "version": 3
   },
   "file_extension": ".py",
   "mimetype": "text/x-python",
   "name": "python",
   "nbconvert_exporter": "python",
   "pygments_lexer": "ipython3",
   "version": "3.7.10"
  },
  "papermill": {
   "default_parameters": {},
   "duration": 7971.006889,
   "end_time": "2021-07-26T03:28:54.038975",
   "environment_variables": {},
   "exception": null,
   "input_path": "__notebook__.ipynb",
   "output_path": "__notebook__.ipynb",
   "parameters": {},
   "start_time": "2021-07-26T01:16:03.032086",
   "version": "2.3.3"
  }
 },
 "nbformat": 4,
 "nbformat_minor": 5
}
